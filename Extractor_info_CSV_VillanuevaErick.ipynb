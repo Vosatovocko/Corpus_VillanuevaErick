{
  "nbformat": 4,
  "nbformat_minor": 0,
  "metadata": {
    "colab": {
      "provenance": []
    },
    "kernelspec": {
      "name": "python3",
      "display_name": "Python 3"
    },
    "language_info": {
      "name": "python"
    }
  },
  "cells": [
    {
      "cell_type": "markdown",
      "source": [
        "# Importación de módulos y carga de archivo CSV"
      ],
      "metadata": {
        "id": "anrNCPBULtce"
      }
    },
    {
      "cell_type": "code",
      "execution_count": null,
      "metadata": {
        "id": "jQimrzp7KQ1c"
      },
      "outputs": [],
      "source": [
        "import collections\n",
        "import csv\n",
        "import matplotlib\n",
        "import pandas as pd\n",
        "import pprint\n",
        "import matplotlib.pyplot as plt\n",
        "from pandas import DataFrame\n",
        "import numpy as np\n",
        "from google.colab import files\n",
        "#import Levenshtein"
      ]
    },
    {
      "cell_type": "code",
      "source": [
        "header=[\"No. de texto\",\"Año\",\"Publicación\",\"Tipología\",\"Página\",\"Clase\",\"Lengua\",\"Topónimo\"]"
      ],
      "metadata": {
        "id": "NgfkT8FgKZ6j"
      },
      "execution_count": null,
      "outputs": []
    },
    {
      "cell_type": "code",
      "source": [
        "#DATOS DEL CORPUS FINAL, CARGA MANUAL DEL ARCHIVO USANDO COLAB\n",
        "\n",
        "datos_corpus=[]\n",
        "\n",
        "leer_datos_corpus = open(\"/content/DATOS_CORPUS_FINAL\")\n",
        "csvreader = csv.reader(leer_datos_corpus)\n",
        "\n",
        "for i in csvreader:\n",
        "    datos_corpus.append(i)\n",
        "\n",
        "leer_datos_corpus.close()"
      ],
      "metadata": {
        "id": "ez80vqUJKcI3"
      },
      "execution_count": null,
      "outputs": []
    },
    {
      "cell_type": "code",
      "source": [
        "pprint.pprint(datos_corpus)"
      ],
      "metadata": {
        "id": "9seeuplULTIR"
      },
      "execution_count": null,
      "outputs": []
    },
    {
      "cell_type": "code",
      "source": [
        "#CARGAR DATOS DE 1 O VARIOS ARCHIVOS CVS; TEXTOS DEL CORPUS FINAL\n",
        "\n",
        "lista_textos=[i for i in range(2,7)]+[i for i in range(8,25)]+[i for i in range(26,35)]+[i for i in range(38,40)]+[i for i in range(42,55)]+[i for i in range(56,61)]+[i for i in range(62,63)]+[i for i in range(64,81)]+[i for i in range(83,88)]+[i for i in range(89,100)]+[i for i in range(101,110)]+[i for i in range(112,114)]\n",
        "\n",
        "datos_corpus=[] \n",
        "\n",
        "#datos_corpus.append(header)\n",
        "\n",
        "for i in lista_textos:\n",
        "    archivo = open(\"/Users/erickvillanueva/Documents/TESIS/Topónima CSV/\"+str(i)+\".csv\")\n",
        "    csvreader = csv.reader(archivo)\n",
        "\n",
        "    for i in csvreader:\n",
        "        datos_corpus.append(i)\n",
        "        #print(i)\n",
        "\n",
        "archivo.close()"
      ],
      "metadata": {
        "id": "q5nT7slnLjTz",
        "colab": {
          "base_uri": "https://localhost:8080/",
          "height": 232
        },
        "outputId": "6a32daf0-152f-4847-e191-b9e68a8fe4b5"
      },
      "execution_count": null,
      "outputs": [
        {
          "output_type": "error",
          "ename": "FileNotFoundError",
          "evalue": "ignored",
          "traceback": [
            "\u001b[0;31m---------------------------------------------------------------------------\u001b[0m",
            "\u001b[0;31mFileNotFoundError\u001b[0m                         Traceback (most recent call last)",
            "\u001b[0;32m<ipython-input-9-763b02cc23d6>\u001b[0m in \u001b[0;36m<module>\u001b[0;34m\u001b[0m\n\u001b[1;32m      8\u001b[0m \u001b[0;34m\u001b[0m\u001b[0m\n\u001b[1;32m      9\u001b[0m \u001b[0;32mfor\u001b[0m \u001b[0mi\u001b[0m \u001b[0;32min\u001b[0m \u001b[0mlista_textos\u001b[0m\u001b[0;34m:\u001b[0m\u001b[0;34m\u001b[0m\u001b[0;34m\u001b[0m\u001b[0m\n\u001b[0;32m---> 10\u001b[0;31m     \u001b[0marchivo\u001b[0m \u001b[0;34m=\u001b[0m \u001b[0mopen\u001b[0m\u001b[0;34m(\u001b[0m\u001b[0;34m\"/Users/erickvillanueva/Documents/TESIS/Topónima CSV/\"\u001b[0m\u001b[0;34m+\u001b[0m\u001b[0mstr\u001b[0m\u001b[0;34m(\u001b[0m\u001b[0mi\u001b[0m\u001b[0;34m)\u001b[0m\u001b[0;34m+\u001b[0m\u001b[0;34m\".csv\"\u001b[0m\u001b[0;34m)\u001b[0m\u001b[0;34m\u001b[0m\u001b[0;34m\u001b[0m\u001b[0m\n\u001b[0m\u001b[1;32m     11\u001b[0m     \u001b[0mcsvreader\u001b[0m \u001b[0;34m=\u001b[0m \u001b[0mcsv\u001b[0m\u001b[0;34m.\u001b[0m\u001b[0mreader\u001b[0m\u001b[0;34m(\u001b[0m\u001b[0marchivo\u001b[0m\u001b[0;34m)\u001b[0m\u001b[0;34m\u001b[0m\u001b[0;34m\u001b[0m\u001b[0m\n\u001b[1;32m     12\u001b[0m \u001b[0;34m\u001b[0m\u001b[0m\n",
            "\u001b[0;31mFileNotFoundError\u001b[0m: [Errno 2] No such file or directory: '/Users/erickvillanueva/Documents/TESIS/Topónima CSV/2.csv'"
          ]
        }
      ]
    },
    {
      "cell_type": "code",
      "source": [
        "len(datos_corpus) #1685 líneas/topónimos"
      ],
      "metadata": {
        "id": "W8TWzXZbLnwA",
        "colab": {
          "base_uri": "https://localhost:8080/"
        },
        "outputId": "7b439e02-9ec2-454a-e8d0-4ad1ba3bab44"
      },
      "execution_count": null,
      "outputs": [
        {
          "output_type": "execute_result",
          "data": {
            "text/plain": [
              "1685"
            ]
          },
          "metadata": {},
          "execution_count": 12
        }
      ]
    },
    {
      "cell_type": "code",
      "source": [
        "#ESCRIBIR ARCHIVO CSV\n",
        "\n",
        "with open(\"/Users/erickvillanueva/Documents/TESIS/Topónima CSV/DATOS_CORPUS_FINAL\",\"w\") as csvfile:\n",
        "    csvwriter=csv.writer(csvfile)\n",
        "    csvwriter.writerows([i for i in datos_corpus])"
      ],
      "metadata": {
        "id": "lnJioyz5Lob-"
      },
      "execution_count": null,
      "outputs": []
    },
    {
      "cell_type": "markdown",
      "source": [
        "# Descripción del corpus"
      ],
      "metadata": {
        "id": "DYh300rxFGar"
      }
    },
    {
      "cell_type": "markdown",
      "source": [
        "## Linea del tiempo"
      ],
      "metadata": {
        "id": "Bb54w13fI71w"
      }
    },
    {
      "cell_type": "code",
      "source": [
        "x=[\"1800 – 1804\", \"1805 – 1809\", \"1810 – 1814\", \"1815 – 1819\", \"1820 – 1824\", \"1825 – 1829\", \"1830 – 1834\", \"1835 – 1839\", \"1840 – 1844\", \"1845 – 1849\"]\n",
        "y=[1, 3, 6, 7, 1, 40, 11, 20, 12, 12]\n",
        "plt.figure().set_figwidth(15)\n",
        "#plt.figure().set_figheight(20)\n",
        "plt.xlabel(\"Año\",fontdict={\"family\":\"sans-serif\",'color':'k','weight':'heavy','size':10,'style': \"normal\"})\n",
        "plt.ylabel(\"No. de textos\",fontdict={\"family\":\"sans-serif\",'color':'k','weight':'heavy','size':10,'style': \"normal\"})\n",
        "plt.plot(x,y,color=\"darkorange\")\n",
        "plt.title(\"No. de textos por año\", fontdict={\"family\":\"sans-serif\",'color':'k','weight':'heavy','size':15,'style': \"normal\"} )\n",
        "plt.grid(axis=\"y\")"
      ],
      "metadata": {
        "colab": {
          "base_uri": "https://localhost:8080/",
          "height": 54
        },
        "id": "tq078JrPFJ4Y",
        "outputId": "dca84e1f-c4a8-4469-e9ea-a3bbfa54baf7"
      },
      "execution_count": null,
      "outputs": [
        {
          "output_type": "display_data",
          "data": {
            "text/plain": [
              "<Figure size 1080x288 with 1 Axes>"
            ],
            "image/png": "[encoded data removed]"
          },
          "metadata": {
            "needs_background": "light"
          }
        }
      ]
    },
    {
      "cell_type": "markdown",
      "source": [
        "## Pie Textos por fuente de publicación"
      ],
      "metadata": {
        "id": "D6L8Wim_I_X-"
      }
    },
    {
      "cell_type": "code",
      "source": [
        "fuente_pub=[\"Libro\",\"Taschenbuch für die gesamte Mineralogie\",\"Jahrbuch für Mineralogie, Geognosie, Geologie und Petrefaktenkunde\",\"Archiv für Bergbau und Hüttenwesen\",\"Hertha, Zeitschrift für Erd-, Völker- und Staatenkunde\",\"Berg- und Hüttenmännische Zeitung\", \"Annalen der Physik und Chemie\", \"Journal für Chemie und Physik\",\"Fortschritte der Geographie und Naturgeschichte\"]\n",
        "frecuencias=np.array([12,7,8,5,4,5,6,7,8])\n",
        "plt.pie(frecuencias,explode=[0,0,0,0,0,0,0,0,0],labels=fuente_pub, autopct='%.2f%%', shadow=False, textprops=dict(color='#00aaff',size=12,family=\"monospace\"))\n",
        "plt.title('¿Qué hiciste en vacaciones?')\n",
        "plt.show()"
      ],
      "metadata": {
        "colab": {
          "base_uri": "https://localhost:8080/",
          "height": 54
        },
        "id": "InEhmclCJIUq",
        "outputId": "c6e7c94d-c69a-4887-9e11-9243cd14ca91"
      },
      "execution_count": null,
      "outputs": [
        {
          "output_type": "display_data",
          "data": {
            "text/plain": [
              "<Figure size 432x288 with 1 Axes>"
            ],
            "image/png": "[encoded data removed]"
          },
          "metadata": {}
        }
      ]
    },
    {
      "cell_type": "code",
      "source": [
        "l=[\"Libro\",\"Taschenbuch für die gesamte Mineralogie\",\"Jahrbuch für Mineralogie, Geognosie, Geologie und Petrefaktenkunde\",\"Archiv für Bergbau und Hüttenwesen\",\"Hertha, Zeitschrift für Erd-, Völker- und Staatenkunde\",\"Berg- und Hüttenmännische Zeitung\", \"Annalen der Physik und Chemie\", \"Journal für Chemie und Physik\",\"Fortschritte der Geographie und Naturgeschichte\"]\n",
        "pprint.pprint([i for i in l])"
      ],
      "metadata": {
        "colab": {
          "base_uri": "https://localhost:8080/"
        },
        "id": "PtfvsEUMdrsW",
        "outputId": "ee7b78a3-6da3-4803-b5e1-07d7b1450872"
      },
      "execution_count": null,
      "outputs": [
        {
          "output_type": "stream",
          "name": "stdout",
          "text": [
            "['Libro',\n",
            " 'Taschenbuch für die gesamte Mineralogie',\n",
            " 'Jahrbuch für Mineralogie, Geognosie, Geologie und Petrefaktenkunde',\n",
            " 'Archiv für Bergbau und Hüttenwesen',\n",
            " 'Hertha, Zeitschrift für Erd-, Völker- und Staatenkunde',\n",
            " 'Berg- und Hüttenmännische Zeitung',\n",
            " 'Annalen der Physik und Chemie',\n",
            " 'Journal für Chemie und Physik',\n",
            " 'Fortschritte der Geographie und Naturgeschichte']\n"
          ]
        }
      ]
    },
    {
      "cell_type": "markdown",
      "source": [
        "# Graficación Diagrama de cajas y bigotes de número de topónimos por texto para suavizar los datos"
      ],
      "metadata": {
        "id": "ql2mo-xpL7-4"
      }
    },
    {
      "cell_type": "markdown",
      "source": [],
      "metadata": {
        "id": "qErXFi2aFCx_"
      }
    },
    {
      "cell_type": "markdown",
      "source": [
        "# Descripción de datos"
      ],
      "metadata": {
        "id": "Lx7KJNb7MG-0"
      }
    },
    {
      "cell_type": "markdown",
      "source": [
        "## Datos de las observaciones de variedades nominales de México"
      ],
      "metadata": {
        "id": "MoyX1RpOM2Wl"
      }
    },
    {
      "cell_type": "code",
      "source": [
        "tabla_variantes_mexico=[]\n",
        "\n",
        "for i in datos_corpus:\n",
        "    if \"mexic\" in i[7].strip().lower() or \"mexik\" in i[7].strip().lower() or \"mejic\" in i[7].strip().lower() or \"mejik\" in i[7].strip().lower() or \"neu-spanien\" in i[7].strip().lower() or \"neu spanien\" in i[7].strip().lower() or \"neuspanien\" in i[7].strip().lower() or \"nueva españa\" in i[7].strip().lower():\n",
        "        tabla_variantes_mexico.append(i)\n",
        "        \n",
        "matriz_variantes_mexico=DataFrame(tabla_variantes_mexico)\n",
        "matriz_variantes_mexico.columns=header\n",
        "matriz_variantes_mexico"
      ],
      "metadata": {
        "id": "w_evwAwWM6VO",
        "colab": {
          "base_uri": "https://localhost:8080/",
          "height": 517
        },
        "outputId": "034454c5-c92f-44dd-c2f5-c777551a74a9"
      },
      "execution_count": null,
      "outputs": [
        {
          "output_type": "execute_result",
          "data": {
            "text/plain": [
              "    No. de texto   Año Publicación Tipología Página Clase Lengua  \\\n",
              "0              2  1807           T         D    227    +P      I   \n",
              "1              3  1807           T         D    265    +P      I   \n",
              "2              4  1807           T         D    269    +P      I   \n",
              "3              5  1811           T         D    240    +P      E   \n",
              "4              5  1811           T         D    240    +P      I   \n",
              "..           ...   ...         ...       ...    ...   ...    ...   \n",
              "498          113  1848           B         D    459    +P      I   \n",
              "499          113  1848           B         D    459    +P      I   \n",
              "500          113  1848           B         D    460     D      I   \n",
              "501          113  1848           B         D    460     D      I   \n",
              "502          113  1848           B         D    460     D      I   \n",
              "\n",
              "          Topónimo  \n",
              "0           Mexiko  \n",
              "1           Mexiko  \n",
              "2           Mexiko  \n",
              "3      Neu-Spanien  \n",
              "4           Mexiko  \n",
              "..             ...  \n",
              "498         Mexiko  \n",
              "499         Mexiko  \n",
              "500   mexikanische  \n",
              "501      Mexikaner  \n",
              "502  mexikanischen  \n",
              "\n",
              "[503 rows x 8 columns]"
            ],
            "text/html": [
              "\n",
              "  <div id=\"df-86acf561-14c0-4376-a3f2-fd122ce9b4c3\">\n",
              "    <div class=\"colab-df-container\">\n",
              "      <div>\n",
              "<style scoped>\n",
              "    .dataframe tbody tr th:only-of-type {\n",
              "        vertical-align: middle;\n",
              "    }\n",
              "\n",
              "    .dataframe tbody tr th {\n",
              "        vertical-align: top;\n",
              "    }\n",
              "\n",
              "    .dataframe thead th {\n",
              "        text-align: right;\n",
              "    }\n",
              "</style>\n",
              "<table border=\"1\" class=\"dataframe\">\n",
              "  <thead>\n",
              "    <tr style=\"text-align: right;\">\n",
              "      <th></th>\n",
              "      <th>No. de texto</th>\n",
              "      <th>Año</th>\n",
              "      <th>Publicación</th>\n",
              "      <th>Tipología</th>\n",
              "      <th>Página</th>\n",
              "      <th>Clase</th>\n",
              "      <th>Lengua</th>\n",
              "      <th>Topónimo</th>\n",
              "    </tr>\n",
              "  </thead>\n",
              "  <tbody>\n",
              "    <tr>\n",
              "      <th>0</th>\n",
              "      <td>2</td>\n",
              "      <td>1807</td>\n",
              "      <td>T</td>\n",
              "      <td>D</td>\n",
              "      <td>227</td>\n",
              "      <td>+P</td>\n",
              "      <td>I</td>\n",
              "      <td>Mexiko</td>\n",
              "    </tr>\n",
              "    <tr>\n",
              "      <th>1</th>\n",
              "      <td>3</td>\n",
              "      <td>1807</td>\n",
              "      <td>T</td>\n",
              "      <td>D</td>\n",
              "      <td>265</td>\n",
              "      <td>+P</td>\n",
              "      <td>I</td>\n",
              "      <td>Mexiko</td>\n",
              "    </tr>\n",
              "    <tr>\n",
              "      <th>2</th>\n",
              "      <td>4</td>\n",
              "      <td>1807</td>\n",
              "      <td>T</td>\n",
              "      <td>D</td>\n",
              "      <td>269</td>\n",
              "      <td>+P</td>\n",
              "      <td>I</td>\n",
              "      <td>Mexiko</td>\n",
              "    </tr>\n",
              "    <tr>\n",
              "      <th>3</th>\n",
              "      <td>5</td>\n",
              "      <td>1811</td>\n",
              "      <td>T</td>\n",
              "      <td>D</td>\n",
              "      <td>240</td>\n",
              "      <td>+P</td>\n",
              "      <td>E</td>\n",
              "      <td>Neu-Spanien</td>\n",
              "    </tr>\n",
              "    <tr>\n",
              "      <th>4</th>\n",
              "      <td>5</td>\n",
              "      <td>1811</td>\n",
              "      <td>T</td>\n",
              "      <td>D</td>\n",
              "      <td>240</td>\n",
              "      <td>+P</td>\n",
              "      <td>I</td>\n",
              "      <td>Mexiko</td>\n",
              "    </tr>\n",
              "    <tr>\n",
              "      <th>...</th>\n",
              "      <td>...</td>\n",
              "      <td>...</td>\n",
              "      <td>...</td>\n",
              "      <td>...</td>\n",
              "      <td>...</td>\n",
              "      <td>...</td>\n",
              "      <td>...</td>\n",
              "      <td>...</td>\n",
              "    </tr>\n",
              "    <tr>\n",
              "      <th>498</th>\n",
              "      <td>113</td>\n",
              "      <td>1848</td>\n",
              "      <td>B</td>\n",
              "      <td>D</td>\n",
              "      <td>459</td>\n",
              "      <td>+P</td>\n",
              "      <td>I</td>\n",
              "      <td>Mexiko</td>\n",
              "    </tr>\n",
              "    <tr>\n",
              "      <th>499</th>\n",
              "      <td>113</td>\n",
              "      <td>1848</td>\n",
              "      <td>B</td>\n",
              "      <td>D</td>\n",
              "      <td>459</td>\n",
              "      <td>+P</td>\n",
              "      <td>I</td>\n",
              "      <td>Mexiko</td>\n",
              "    </tr>\n",
              "    <tr>\n",
              "      <th>500</th>\n",
              "      <td>113</td>\n",
              "      <td>1848</td>\n",
              "      <td>B</td>\n",
              "      <td>D</td>\n",
              "      <td>460</td>\n",
              "      <td>D</td>\n",
              "      <td>I</td>\n",
              "      <td>mexikanische</td>\n",
              "    </tr>\n",
              "    <tr>\n",
              "      <th>501</th>\n",
              "      <td>113</td>\n",
              "      <td>1848</td>\n",
              "      <td>B</td>\n",
              "      <td>D</td>\n",
              "      <td>460</td>\n",
              "      <td>D</td>\n",
              "      <td>I</td>\n",
              "      <td>Mexikaner</td>\n",
              "    </tr>\n",
              "    <tr>\n",
              "      <th>502</th>\n",
              "      <td>113</td>\n",
              "      <td>1848</td>\n",
              "      <td>B</td>\n",
              "      <td>D</td>\n",
              "      <td>460</td>\n",
              "      <td>D</td>\n",
              "      <td>I</td>\n",
              "      <td>mexikanischen</td>\n",
              "    </tr>\n",
              "  </tbody>\n",
              "</table>\n",
              "<p>503 rows × 8 columns</p>\n",
              "</div>\n",
              "      <button class=\"colab-df-convert\" onclick=\"convertToInteractive('df-86acf561-14c0-4376-a3f2-fd122ce9b4c3')\"\n",
              "              title=\"Convert this dataframe to an interactive table.\"\n",
              "              style=\"display:none;\">\n",
              "        \n",
              "  <svg xmlns=\"http://www.w3.org/2000/svg\" height=\"24px\"viewBox=\"0 0 24 24\"\n",
              "       width=\"24px\">\n",
              "    <path d=\"M0 0h24v24H0V0z\" fill=\"none\"/>\n",
              "    <path d=\"M18.56 5.44l.94 2.06.94-2.06 2.06-.94-2.06-.94-.94-2.06-.94 2.06-2.06.94zm-11 1L8.5 8.5l.94-2.06 2.06-.94-2.06-.94L8.5 2.5l-.94 2.06-2.06.94zm10 10l.94 2.06.94-2.06 2.06-.94-2.06-.94-.94-2.06-.94 2.06-2.06.94z\"/><path d=\"M17.41 7.96l-1.37-1.37c-.4-.4-.92-.59-1.43-.59-.52 0-1.04.2-1.43.59L10.3 9.45l-7.72 7.72c-.78.78-.78 2.05 0 2.83L4 21.41c.39.39.9.59 1.41.59.51 0 1.02-.2 1.41-.59l7.78-7.78 2.81-2.81c.8-.78.8-2.07 0-2.86zM5.41 20L4 18.59l7.72-7.72 1.47 1.35L5.41 20z\"/>\n",
              "  </svg>\n",
              "      </button>\n",
              "      \n",
              "  <style>\n",
              "    .colab-df-container {\n",
              "      display:flex;\n",
              "      flex-wrap:wrap;\n",
              "      gap: 12px;\n",
              "    }\n",
              "\n",
              "    .colab-df-convert {\n",
              "      background-color: #E8F0FE;\n",
              "      border: none;\n",
              "      border-radius: 50%;\n",
              "      cursor: pointer;\n",
              "      display: none;\n",
              "      fill: #1967D2;\n",
              "      height: 32px;\n",
              "      padding: 0 0 0 0;\n",
              "      width: 32px;\n",
              "    }\n",
              "\n",
              "    .colab-df-convert:hover {\n",
              "      background-color: #E2EBFA;\n",
              "      box-shadow: 0px 1px 2px rgba(60, 64, 67, 0.3), 0px 1px 3px 1px rgba(60, 64, 67, 0.15);\n",
              "      fill: #174EA6;\n",
              "    }\n",
              "\n",
              "    [theme=dark] .colab-df-convert {\n",
              "      background-color: #3B4455;\n",
              "      fill: #D2E3FC;\n",
              "    }\n",
              "\n",
              "    [theme=dark] .colab-df-convert:hover {\n",
              "      background-color: #434B5C;\n",
              "      box-shadow: 0px 1px 3px 1px rgba(0, 0, 0, 0.15);\n",
              "      filter: drop-shadow(0px 1px 2px rgba(0, 0, 0, 0.3));\n",
              "      fill: #FFFFFF;\n",
              "    }\n",
              "  </style>\n",
              "\n",
              "      <script>\n",
              "        const buttonEl =\n",
              "          document.querySelector('#df-86acf561-14c0-4376-a3f2-fd122ce9b4c3 button.colab-df-convert');\n",
              "        buttonEl.style.display =\n",
              "          google.colab.kernel.accessAllowed ? 'block' : 'none';\n",
              "\n",
              "        async function convertToInteractive(key) {\n",
              "          const element = document.querySelector('#df-86acf561-14c0-4376-a3f2-fd122ce9b4c3');\n",
              "          const dataTable =\n",
              "            await google.colab.kernel.invokeFunction('convertToInteractive',\n",
              "                                                     [key], {});\n",
              "          if (!dataTable) return;\n",
              "\n",
              "          const docLinkHtml = 'Like what you see? Visit the ' +\n",
              "            '<a target=\"_blank\" href=https://colab.research.google.com/notebooks/data_table.ipynb>data table notebook</a>'\n",
              "            + ' to learn more about interactive tables.';\n",
              "          element.innerHTML = '';\n",
              "          dataTable['output_type'] = 'display_data';\n",
              "          await google.colab.output.renderOutput(dataTable, element);\n",
              "          const docLink = document.createElement('div');\n",
              "          docLink.innerHTML = docLinkHtml;\n",
              "          element.appendChild(docLink);\n",
              "        }\n",
              "      </script>\n",
              "    </div>\n",
              "  </div>\n",
              "  "
            ]
          },
          "metadata": {},
          "execution_count": 19
        }
      ]
    },
    {
      "cell_type": "markdown",
      "source": [
        "### Clasificación y conteo de ocurrencias de las variedades nominales de \"México\" por año, revista y tipología textual"
      ],
      "metadata": {
        "id": "cHWhGu0sNV0u"
      }
    },
    {
      "cell_type": "code",
      "source": [
        "# Variables para \"Mexico\"\n",
        "\n",
        "mexico_año=[] #año\n",
        "mexico_top=[] #topónimos\n",
        "mexico_conteo=0 #ocurrencias\n",
        "\n",
        "mexico_revista=[] #revista\n",
        "mexico_top_revista=[]\n",
        "mexico_conteo_revista=0\n",
        "\n",
        "mexico_tipo=[] #tipología textual\n",
        "mexico_top_tipo=[]\n",
        "mexico_conteo_tipo=0\n",
        "\n",
        "# Variables para \"Mexiko\"\n",
        "\n",
        "mexiko_año=[]\n",
        "mexiko_top=[]\n",
        "mexiko_conteo=0\n",
        "\n",
        "mexiko_revista=[]\n",
        "mexiko_top_revista=[]\n",
        "mexiko_conteo_revista=0\n",
        "\n",
        "mexiko_tipo=[]\n",
        "mexiko_top_tipo=[]\n",
        "mexiko_conteo_tipo=0\n",
        "\n",
        "# Variables para \"Mejico\"\n",
        "\n",
        "mejico_año=[]\n",
        "mejico_top=[]\n",
        "mejico_conteo=0\n",
        "\n",
        "mejico_revista=[]\n",
        "mejico_top_revista=[]\n",
        "mejico_conteo_revista=0\n",
        "\n",
        "mejico_tipo=[]\n",
        "mejico_top_tipo=[]\n",
        "mejico_conteo_tipo=0\n",
        "\n",
        "# Variables para \"Mejiko\"\n",
        "\n",
        "mejiko_año=[]\n",
        "mejiko_top=[]\n",
        "mejiko_conteo=0\n",
        "\n",
        "mejiko_revista=[]\n",
        "mejiko_top_revista=[]\n",
        "mejiko_conteo_revista=0\n",
        "\n",
        "mejiko_tipo=[]\n",
        "mejiko_top_tipo=[]\n",
        "mejiko_conteo_tipo=0\n",
        "\n",
        "# Variables para \"Neu-Spanien\"\n",
        "\n",
        "neuspanien_año=[]\n",
        "neuspanien_top=[]\n",
        "neuspanien_conteo=0\n",
        "\n",
        "neuspanien_revista=[]\n",
        "neuspanien_top_revista=[]\n",
        "neuspanien_conteo_revista=0\n",
        "\n",
        "neuspanien_tipo=[]\n",
        "neuspanien_top_tipo=[]\n",
        "neuspanien_conteo_tipo=0\n",
        "\n",
        "\n",
        "for i in datos_corpus:\n",
        "    if \"mexic\" in i[7].strip().lower(): \n",
        "        mexico_año.append(int(i[1]))\n",
        "        mexico_top.append(i[7])\n",
        "        mexico_conteo+=1\n",
        "        \n",
        "        mexico_revista.append(i[2])\n",
        "        mexico_top_revista.append(i[7])\n",
        "        mexico_conteo_revista+=1\n",
        "\n",
        "        mexico_tipo.append(i[3])\n",
        "        mexico_top_tipo.append(i[7])\n",
        "        mexico_conteo_tipo+=1\n",
        "      \n",
        "    elif \"mexik\" in i[7].strip().lower():\n",
        "        mexiko_año.append(int(i[1]))\n",
        "        mexiko_top.append(i[7])\n",
        "        mexiko_conteo+=1\n",
        "        \n",
        "        mexiko_revista.append(i[2])\n",
        "        mexiko_top_revista.append(i[7])\n",
        "        mexiko_conteo_revista+=1\n",
        "\n",
        "        mexiko_tipo.append(i[3])\n",
        "        mexiko_top_tipo.append(i[7])\n",
        "        mexiko_conteo_tipo+=1        \n",
        "                \n",
        "    elif \"mejic\" in i[7].strip().lower():\n",
        "        mejico_año.append(int(i[1]))\n",
        "        mejico_top.append(i[7])\n",
        "        mejico_conteo+=1\n",
        "        \n",
        "        mejico_revista.append(i[2])\n",
        "        mejico_top_revista.append(i[7])\n",
        "        mejico_conteo_revista+=1\n",
        "\n",
        "        mejico_tipo.append(i[3])\n",
        "        mejico_top_tipo.append(i[7])\n",
        "        mejico_conteo_tipo+=1\n",
        "       \n",
        "    elif \"mejik\" in i[7].strip().lower():\n",
        "        mejiko_año.append(int(i[1]))\n",
        "        mejiko_top.append(i[7])\n",
        "        mejiko_conteo+=1\n",
        "        \n",
        "        mejiko_revista.append(i[2])\n",
        "        mejiko_top_revista.append(i[7])\n",
        "        mejiko_conteo_revista+=1\n",
        "\n",
        "        mejiko_tipo.append(i[3])\n",
        "        mejiko_top_tipo.append(i[7])\n",
        "        mejiko_conteo_tipo+=1\n",
        "        \n",
        "    elif \"neuspanien\" in i[7].strip().lower() or \"neu-spanien\" in i[7].strip().lower() or \"neu spanien\" in i[7].strip().lower() or \"nueva españa\" in i[7].strip().lower():\n",
        "        neuspanien_año.append(int(i[1]))\n",
        "        neuspanien_top.append(i[7])\n",
        "        neuspanien_conteo+=1\n",
        "        \n",
        "        neuspanien_revista.append(i[2])\n",
        "        neuspanien_top_revista.append(i[7])\n",
        "        neuspanien_conteo_revista+=1\n",
        "\n",
        "        neuspanien_tipo.append(i[3])\n",
        "        neuspanien_top_tipo.append(i[7])\n",
        "        neuspanien_conteo_tipo+=1"
      ],
      "metadata": {
        "id": "vGXh0mpPNaLS"
      },
      "execution_count": null,
      "outputs": []
    },
    {
      "cell_type": "code",
      "source": [
        "#mexico_conteo+mexiko_conteo+mejico_conteo+mejiko_conteo+neuspanien_conteo\n",
        "#mexico_conteo_revista+mexiko_conteo_revista+mejico_conteo_revista+mejiko_conteo_revista+neuspanien_conteo_revista\n",
        "#mexico_conteo_tipo+mexiko_conteo_tipo+mejico_conteo_tipo+mejiko_conteo_tipo+neuspanien_conteo_tipo"
      ],
      "metadata": {
        "id": "bLHbEfQeN01u"
      },
      "execution_count": null,
      "outputs": []
    },
    {
      "cell_type": "code",
      "source": [
        "conteo_mexico_año=collections.Counter(mexico_año)\n",
        "conteo_mexiko_año=collections.Counter(mexiko_año)\n",
        "conteo_mejico_año=collections.Counter(mejico_año)\n",
        "conteo_mejiko_año=collections.Counter(mejiko_año)\n",
        "conteo_neuspanien_año=collections.Counter(neuspanien_año)\n",
        "\n",
        "conteo_mexico_revista=collections.Counter(sorted(mexico_revista))\n",
        "conteo_mexiko_revista=collections.Counter(sorted(mexiko_revista))\n",
        "conteo_mejico_revista=collections.Counter(sorted(mejico_revista))\n",
        "conteo_mejiko_revista=collections.Counter(sorted(mejiko_revista))\n",
        "conteo_neuspanien_revista=collections.Counter(sorted(neuspanien_revista))\n",
        "\n",
        "conteo_mexico_tipo=collections.Counter(sorted(mexico_tipo))\n",
        "conteo_mexiko_tipo=collections.Counter(sorted(mexiko_tipo))\n",
        "conteo_mejico_tipo=collections.Counter(sorted(mejico_tipo))\n",
        "conteo_mejiko_tipo=collections.Counter(sorted(mejiko_tipo))\n",
        "conteo_neuspanien_tipo=collections.Counter(sorted(neuspanien_tipo))"
      ],
      "metadata": {
        "id": "Vggqbr_1N_nZ"
      },
      "execution_count": null,
      "outputs": []
    },
    {
      "cell_type": "markdown",
      "source": [
        "## Matriz por año"
      ],
      "metadata": {
        "id": "vkrmz78MOK_G"
      }
    },
    {
      "cell_type": "code",
      "source": [
        "# Mexico\n",
        "\n",
        "mxc_keys, mxc_values = zip(*conteo_mexico_año.items())\n",
        "\n",
        "mxc_a1800a1805=0\n",
        "mxc_a1805a1810=0\n",
        "mxc_a1810a1815=0\n",
        "mxc_a1815a1820=0\n",
        "mxc_a1820a1825=0\n",
        "mxc_a1825a1830=0\n",
        "mxc_a1830a1835=0\n",
        "mxc_a1835a1840=0\n",
        "mxc_a1840a1845=0\n",
        "mxc_a1845a1850=0\n",
        "\n",
        "\n",
        "for i,j in zip(mxc_keys, mxc_values):\n",
        "    if i in range(1800,1805):\n",
        "        mxc_a1800a1805+=j\n",
        "    elif i in range(1805,1810):\n",
        "        mxc_a1805a1810+=j\n",
        "    elif i in range(1810,1815):\n",
        "        mxc_a1810a1815+=j\n",
        "    elif i in range(1815,1820):\n",
        "        mxc_a1815a1820+=j\n",
        "    elif i in range(1820,1825):\n",
        "        mxc_a1820a1825+=j\n",
        "    elif i in range(1825,1830):\n",
        "        mxc_a1825a1830+=j\n",
        "    elif i in range(1830,1835):\n",
        "        mxc_a1830a1835+=j\n",
        "    elif i in range(1835,1840):\n",
        "        mxc_a1835a1840+=j\n",
        "    elif i in range(1840,1845):\n",
        "        mxc_a1840a1845+=j\n",
        "    elif i in range(1845,1850):\n",
        "        mxc_a1845a1850+=j\n",
        "\n",
        "        \n",
        "# Mexiko\n",
        "\n",
        "mxk_keys, mxk_values = zip(*conteo_mexiko_año.items())\n",
        "\n",
        "mxk_a1800a1805=0\n",
        "mxk_a1805a1810=0\n",
        "mxk_a1810a1815=0\n",
        "mxk_a1815a1820=0\n",
        "mxk_a1820a1825=0\n",
        "mxk_a1825a1830=0\n",
        "mxk_a1830a1835=0\n",
        "mxk_a1835a1840=0\n",
        "mxk_a1840a1845=0\n",
        "mxk_a1845a1850=0\n",
        "\n",
        "\n",
        "for i,j in zip(mxk_keys, mxk_values):\n",
        "    if i in range(1800,1805):\n",
        "        mxk_a1800a1805+=j\n",
        "    elif i in range(1805,1810):\n",
        "        mxk_a1805a1810+=j\n",
        "    elif i in range(1810,1815):\n",
        "        mxk_a1810a1815+=j\n",
        "    elif i in range(1815,1820):\n",
        "        mxk_a1815a1820+=j\n",
        "    elif i in range(1820,1825):\n",
        "        mxk_a1820a1825+=j\n",
        "    elif i in range(1825,1830):\n",
        "        mxk_a1825a1830+=j\n",
        "    elif i in range(1830,1835):\n",
        "        mxk_a1830a1835+=j\n",
        "    elif i in range(1835,1840):\n",
        "        mxk_a1835a1840+=j\n",
        "    elif i in range(1840,1845):\n",
        "        mxk_a1840a1845+=j\n",
        "    elif i in range(1845,1850):\n",
        "        mxk_a1845a1850+=j\n",
        "        \n",
        "\n",
        "# Mejico\n",
        "\n",
        "mjc_keys, mjc_values = zip(*conteo_mejico_año.items())\n",
        "\n",
        "mjc_a1800a1805=0\n",
        "mjc_a1805a1810=0\n",
        "mjc_a1810a1815=0\n",
        "mjc_a1815a1820=0\n",
        "mjc_a1820a1825=0\n",
        "mjc_a1825a1830=0\n",
        "mjc_a1830a1835=0\n",
        "mjc_a1835a1840=0\n",
        "mjc_a1840a1845=0\n",
        "mjc_a1845a1850=0\n",
        "\n",
        "\n",
        "for i,j in zip(mjc_keys, mjc_values):\n",
        "    if i in range(1800,1805):\n",
        "        mjc_a1800a1805+=j\n",
        "    elif i in range(1805,1810):\n",
        "        mjc_a1805a1810+=j\n",
        "    elif i in range(1810,1815):\n",
        "        mjc_a1810a1815+=j\n",
        "    elif i in range(1815,1820):\n",
        "        mjc_a1815a1820+=j\n",
        "    elif i in range(1820,1825):\n",
        "        mjc_a1820a1825+=j\n",
        "    elif i in range(1825,1830):\n",
        "        mjc_a1825a1830+=j\n",
        "    elif i in range(1830,1835):\n",
        "        mjc_a1830a1835+=j\n",
        "    elif i in range(1835,1840):\n",
        "        mjc_a1835a1840+=j\n",
        "    elif i in range(1840,1845):\n",
        "        mjc_a1840a1845+=j\n",
        "    elif i in range(1845,1850):\n",
        "        mjc_a1845a1850+=j\n",
        "        \n",
        "\n",
        "# Mejiko\n",
        "\n",
        "mjk_keys, mjk_values = zip(*conteo_mejiko_año.items())\n",
        "\n",
        "mjk_a1800a1805=0\n",
        "mjk_a1805a1810=0\n",
        "mjk_a1810a1815=0\n",
        "mjk_a1815a1820=0\n",
        "mjk_a1820a1825=0\n",
        "mjk_a1825a1830=0\n",
        "mjk_a1830a1835=0\n",
        "mjk_a1835a1840=0\n",
        "mjk_a1840a1845=0\n",
        "mjk_a1845a1850=0\n",
        "\n",
        "\n",
        "for i,j in zip(mjk_keys, mjk_values):\n",
        "    if i in range(1800,1805):\n",
        "        mjk_a1800a1805+=j\n",
        "    elif i in range(1805,1810):\n",
        "        mjk_a1805a1810+=j\n",
        "    elif i in range(1810,1815):\n",
        "        mjk_a1810a1815+=j\n",
        "    elif i in range(1815,1820):\n",
        "        mjk_a1815a1820+=j\n",
        "    elif i in range(1820,1825):\n",
        "        mjk_a1820a1825+=j\n",
        "    elif i in range(1825,1830):\n",
        "        mjk_a1825a1830+=j\n",
        "    elif i in range(1830,1835):\n",
        "        mjk_a1830a1835+=j\n",
        "    elif i in range(1835,1840):\n",
        "        mjk_a1835a1840+=j\n",
        "    elif i in range(1840,1845):\n",
        "        mjk_a1840a1845+=j\n",
        "    elif i in range(1845,1850):\n",
        "        mjk_a1845a1850+=j\n",
        "\n",
        "        \n",
        "# Neu-Spanien\n",
        "\n",
        "ns_keys, ns_values = zip(*conteo_neuspanien_año.items())\n",
        "\n",
        "ns_a1800a1805=0\n",
        "ns_a1805a1810=0\n",
        "ns_a1810a1815=0\n",
        "ns_a1815a1820=0\n",
        "ns_a1820a1825=0\n",
        "ns_a1825a1830=0\n",
        "ns_a1830a1835=0\n",
        "ns_a1835a1840=0\n",
        "ns_a1840a1845=0\n",
        "ns_a1845a1850=0\n",
        "\n",
        "\n",
        "for i,j in zip(ns_keys, ns_values):\n",
        "    if i in range(1800,1805):\n",
        "        ns_a1800a1805+=j\n",
        "    elif i in range(1805,1810):\n",
        "        ns_a1805a1810+=j\n",
        "    elif i in range(1810,1815):\n",
        "        ns_a1810a1815+=j\n",
        "    elif i in range(1815,1820):\n",
        "        ns_a1815a1820+=j\n",
        "    elif i in range(1820,1825):\n",
        "        ns_a1820a1825+=j\n",
        "    elif i in range(1825,1830):\n",
        "        ns_a1825a1830+=j\n",
        "    elif i in range(1830,1835):\n",
        "        ns_a1830a1835+=j\n",
        "    elif i in range(1835,1840):\n",
        "        ns_a1835a1840+=j\n",
        "    elif i in range(1840,1845):\n",
        "        ns_a1840a1845+=j\n",
        "    elif i in range(1845,1850):\n",
        "        ns_a1845a1850+=j"
      ],
      "metadata": {
        "id": "tb9cMwxgOPPZ"
      },
      "execution_count": null,
      "outputs": []
    },
    {
      "cell_type": "code",
      "source": [
        "nomina=[\n",
        "\n",
        "    [mxc_a1800a1805,mxk_a1800a1805,mjc_a1800a1805,mjk_a1800a1805,ns_a1800a1805],\n",
        "    [mxc_a1805a1810,mxk_a1805a1810,mjc_a1805a1810,mjk_a1805a1810,ns_a1805a1810],\n",
        "    [mxc_a1810a1815,mxk_a1810a1815,mjc_a1810a1815,mjk_a1810a1815,ns_a1810a1815],\n",
        "    [mxc_a1815a1820,mxk_a1815a1820,mjc_a1815a1820,mjk_a1815a1820,ns_a1815a1820],\n",
        "    [mxc_a1820a1825,mxk_a1820a1825,mjc_a1820a1825,mjk_a1820a1825,ns_a1820a1825],\n",
        "    [mxc_a1825a1830,mxk_a1825a1830,mjc_a1825a1830,mjk_a1825a1830,ns_a1825a1830],\n",
        "    [mxc_a1830a1835,mxk_a1830a1835,mjc_a1830a1835,mjk_a1830a1835,ns_a1830a1835],\n",
        "    [mxc_a1835a1840,mxk_a1835a1840,mjc_a1835a1840,mjk_a1835a1840,ns_a1835a1840],\n",
        "    [mxc_a1840a1845,mxk_a1840a1845,mjc_a1840a1845,mjk_a1840a1845,ns_a1840a1845],\n",
        "    [mxc_a1845a1850,mxk_a1845a1850,mjc_a1845a1850,mjk_a1845a1850,ns_a1845a1850]   \n",
        "\n",
        "       ]\n",
        "    \n",
        "matriz=DataFrame(nomina)\n",
        "matriz.index=[\"1800-1804\",\"1805-1810\",\"1810–1815\",\"1815–1820\",\"1820-1825\",\"1825–1830\",\"1830-1835\",\"1835-1840\",\"1840–1845\",\"1845-1849\"]\n",
        "matriz.columns=[\"Mexico\",\"Mexiko\",\"Mejico\",\"Mejiko\",\"Neuspanien\"]\n",
        "matriz"
      ],
      "metadata": {
        "colab": {
          "base_uri": "https://localhost:8080/",
          "height": 593
        },
        "id": "K_yZ-oGUO5rx",
        "outputId": "2cdc8170-e1b2-4f5e-f87c-1b4589616747"
      },
      "execution_count": null,
      "outputs": [
        {
          "output_type": "execute_result",
          "data": {
            "text/plain": [
              "           Mexico  Mexiko  Mejico  Mejiko  Neuspanien\n",
              "1800-1804       0       0       0       0           0\n",
              "1805-1810       0       3       0       0           0\n",
              "1810–1815       0      13       0       0           3\n",
              "1815–1820       5      17       0       0           1\n",
              "1820-1825       0       8       0       0           0\n",
              "1825–1830      26     148       1      15          34\n",
              "1830-1835       6      17       0       0           0\n",
              "1835-1840      31      19       0       0           0\n",
              "1840–1845      45      24       8       0           0\n",
              "1845-1849      41      38       0       0           0"
            ],
            "text/html": [
              "\n",
              "  <div id=\"df-6febfa9d-b6bd-40f2-a439-d5210c672f1d\">\n",
              "    <div class=\"colab-df-container\">\n",
              "      <div>\n",
              "<style scoped>\n",
              "    .dataframe tbody tr th:only-of-type {\n",
              "        vertical-align: middle;\n",
              "    }\n",
              "\n",
              "    .dataframe tbody tr th {\n",
              "        vertical-align: top;\n",
              "    }\n",
              "\n",
              "    .dataframe thead th {\n",
              "        text-align: right;\n",
              "    }\n",
              "</style>\n",
              "<table border=\"1\" class=\"dataframe\">\n",
              "  <thead>\n",
              "    <tr style=\"text-align: right;\">\n",
              "      <th></th>\n",
              "      <th>Mexico</th>\n",
              "      <th>Mexiko</th>\n",
              "      <th>Mejico</th>\n",
              "      <th>Mejiko</th>\n",
              "      <th>Neuspanien</th>\n",
              "    </tr>\n",
              "  </thead>\n",
              "  <tbody>\n",
              "    <tr>\n",
              "      <th>1800-1804</th>\n",
              "      <td>0</td>\n",
              "      <td>0</td>\n",
              "      <td>0</td>\n",
              "      <td>0</td>\n",
              "      <td>0</td>\n",
              "    </tr>\n",
              "    <tr>\n",
              "      <th>1805-1810</th>\n",
              "      <td>0</td>\n",
              "      <td>3</td>\n",
              "      <td>0</td>\n",
              "      <td>0</td>\n",
              "      <td>0</td>\n",
              "    </tr>\n",
              "    <tr>\n",
              "      <th>1810–1815</th>\n",
              "      <td>0</td>\n",
              "      <td>13</td>\n",
              "      <td>0</td>\n",
              "      <td>0</td>\n",
              "      <td>3</td>\n",
              "    </tr>\n",
              "    <tr>\n",
              "      <th>1815–1820</th>\n",
              "      <td>5</td>\n",
              "      <td>17</td>\n",
              "      <td>0</td>\n",
              "      <td>0</td>\n",
              "      <td>1</td>\n",
              "    </tr>\n",
              "    <tr>\n",
              "      <th>1820-1825</th>\n",
              "      <td>0</td>\n",
              "      <td>8</td>\n",
              "      <td>0</td>\n",
              "      <td>0</td>\n",
              "      <td>0</td>\n",
              "    </tr>\n",
              "    <tr>\n",
              "      <th>1825–1830</th>\n",
              "      <td>26</td>\n",
              "      <td>148</td>\n",
              "      <td>1</td>\n",
              "      <td>15</td>\n",
              "      <td>34</td>\n",
              "    </tr>\n",
              "    <tr>\n",
              "      <th>1830-1835</th>\n",
              "      <td>6</td>\n",
              "      <td>17</td>\n",
              "      <td>0</td>\n",
              "      <td>0</td>\n",
              "      <td>0</td>\n",
              "    </tr>\n",
              "    <tr>\n",
              "      <th>1835-1840</th>\n",
              "      <td>31</td>\n",
              "      <td>19</td>\n",
              "      <td>0</td>\n",
              "      <td>0</td>\n",
              "      <td>0</td>\n",
              "    </tr>\n",
              "    <tr>\n",
              "      <th>1840–1845</th>\n",
              "      <td>45</td>\n",
              "      <td>24</td>\n",
              "      <td>8</td>\n",
              "      <td>0</td>\n",
              "      <td>0</td>\n",
              "    </tr>\n",
              "    <tr>\n",
              "      <th>1845-1849</th>\n",
              "      <td>41</td>\n",
              "      <td>38</td>\n",
              "      <td>0</td>\n",
              "      <td>0</td>\n",
              "      <td>0</td>\n",
              "    </tr>\n",
              "  </tbody>\n",
              "</table>\n",
              "</div>\n",
              "      <button class=\"colab-df-convert\" onclick=\"convertToInteractive('df-6febfa9d-b6bd-40f2-a439-d5210c672f1d')\"\n",
              "              title=\"Convert this dataframe to an interactive table.\"\n",
              "              style=\"display:none;\">\n",
              "        \n",
              "  <svg xmlns=\"http://www.w3.org/2000/svg\" height=\"24px\"viewBox=\"0 0 24 24\"\n",
              "       width=\"24px\">\n",
              "    <path d=\"M0 0h24v24H0V0z\" fill=\"none\"/>\n",
              "    <path d=\"M18.56 5.44l.94 2.06.94-2.06 2.06-.94-2.06-.94-.94-2.06-.94 2.06-2.06.94zm-11 1L8.5 8.5l.94-2.06 2.06-.94-2.06-.94L8.5 2.5l-.94 2.06-2.06.94zm10 10l.94 2.06.94-2.06 2.06-.94-2.06-.94-.94-2.06-.94 2.06-2.06.94z\"/><path d=\"M17.41 7.96l-1.37-1.37c-.4-.4-.92-.59-1.43-.59-.52 0-1.04.2-1.43.59L10.3 9.45l-7.72 7.72c-.78.78-.78 2.05 0 2.83L4 21.41c.39.39.9.59 1.41.59.51 0 1.02-.2 1.41-.59l7.78-7.78 2.81-2.81c.8-.78.8-2.07 0-2.86zM5.41 20L4 18.59l7.72-7.72 1.47 1.35L5.41 20z\"/>\n",
              "  </svg>\n",
              "      </button>\n",
              "      \n",
              "  <style>\n",
              "    .colab-df-container {\n",
              "      display:flex;\n",
              "      flex-wrap:wrap;\n",
              "      gap: 12px;\n",
              "    }\n",
              "\n",
              "    .colab-df-convert {\n",
              "      background-color: #E8F0FE;\n",
              "      border: none;\n",
              "      border-radius: 50%;\n",
              "      cursor: pointer;\n",
              "      display: none;\n",
              "      fill: #1967D2;\n",
              "      height: 32px;\n",
              "      padding: 0 0 0 0;\n",
              "      width: 32px;\n",
              "    }\n",
              "\n",
              "    .colab-df-convert:hover {\n",
              "      background-color: #E2EBFA;\n",
              "      box-shadow: 0px 1px 2px rgba(60, 64, 67, 0.3), 0px 1px 3px 1px rgba(60, 64, 67, 0.15);\n",
              "      fill: #174EA6;\n",
              "    }\n",
              "\n",
              "    [theme=dark] .colab-df-convert {\n",
              "      background-color: #3B4455;\n",
              "      fill: #D2E3FC;\n",
              "    }\n",
              "\n",
              "    [theme=dark] .colab-df-convert:hover {\n",
              "      background-color: #434B5C;\n",
              "      box-shadow: 0px 1px 3px 1px rgba(0, 0, 0, 0.15);\n",
              "      filter: drop-shadow(0px 1px 2px rgba(0, 0, 0, 0.3));\n",
              "      fill: #FFFFFF;\n",
              "    }\n",
              "  </style>\n",
              "\n",
              "      <script>\n",
              "        const buttonEl =\n",
              "          document.querySelector('#df-6febfa9d-b6bd-40f2-a439-d5210c672f1d button.colab-df-convert');\n",
              "        buttonEl.style.display =\n",
              "          google.colab.kernel.accessAllowed ? 'block' : 'none';\n",
              "\n",
              "        async function convertToInteractive(key) {\n",
              "          const element = document.querySelector('#df-6febfa9d-b6bd-40f2-a439-d5210c672f1d');\n",
              "          const dataTable =\n",
              "            await google.colab.kernel.invokeFunction('convertToInteractive',\n",
              "                                                     [key], {});\n",
              "          if (!dataTable) return;\n",
              "\n",
              "          const docLinkHtml = 'Like what you see? Visit the ' +\n",
              "            '<a target=\"_blank\" href=https://colab.research.google.com/notebooks/data_table.ipynb>data table notebook</a>'\n",
              "            + ' to learn more about interactive tables.';\n",
              "          element.innerHTML = '';\n",
              "          dataTable['output_type'] = 'display_data';\n",
              "          await google.colab.output.renderOutput(dataTable, element);\n",
              "          const docLink = document.createElement('div');\n",
              "          docLink.innerHTML = docLinkHtml;\n",
              "          element.appendChild(docLink);\n",
              "        }\n",
              "      </script>\n",
              "    </div>\n",
              "  </div>\n",
              "  "
            ]
          },
          "metadata": {},
          "execution_count": 24
        }
      ]
    },
    {
      "cell_type": "code",
      "source": [
        "matriz.sum()"
      ],
      "metadata": {
        "colab": {
          "base_uri": "https://localhost:8080/"
        },
        "id": "wrJyT0BpQc4b",
        "outputId": "480fab2e-cad6-4ff6-de30-bdab88c92ee8"
      },
      "execution_count": null,
      "outputs": [
        {
          "output_type": "execute_result",
          "data": {
            "text/plain": [
              "Mexico        154\n",
              "Mexiko        287\n",
              "Mejico          9\n",
              "Mejiko         15\n",
              "Neuspanien     38\n",
              "dtype: int64"
            ]
          },
          "metadata": {},
          "execution_count": 25
        }
      ]
    },
    {
      "cell_type": "markdown",
      "source": [
        "## Matriz por fuente de publicación"
      ],
      "metadata": {
        "id": "GGN3k4uiQh3M"
      }
    },
    {
      "cell_type": "code",
      "source": [
        "# Mexico\n",
        "\n",
        "mxc_keys, mxc_values = zip(*conteo_mexico_revista.items())\n",
        "\n",
        "mxc_t=0\n",
        "mxc_l=0\n",
        "mxc_h=0\n",
        "mxc_c=0\n",
        "mxc_p=0\n",
        "mxc_a=0\n",
        "mxc_j=0\n",
        "mxc_b=0\n",
        "mxc_f=0\n",
        "\n",
        "\n",
        "for i,j in zip(mxc_keys, mxc_values):\n",
        "    if \"T\" in i:\n",
        "        mxc_t+=j\n",
        "    elif \"L\" in i:\n",
        "        mxc_l+=j\n",
        "    elif \"H\" in i:\n",
        "        mxc_h+=j\n",
        "    elif \"C\" in i:\n",
        "        mxc_c+=j\n",
        "    elif \"P\" in i:\n",
        "        mxc_p+=j\n",
        "    elif \"A\" in i:\n",
        "        mxc_a+=j\n",
        "    elif \"J\" in i:\n",
        "        mxc_j+=j\n",
        "    elif \"B\" in i:\n",
        "        mxc_b+=j\n",
        "    elif \"F\" in i:\n",
        "        mxc_f+=j\n",
        "        \n",
        "\n",
        "# Mexiko\n",
        "\n",
        "mxk_keys, mxk_values = zip(*conteo_mexiko_revista.items())\n",
        "\n",
        "mxk_t=0\n",
        "mxk_l=0\n",
        "mxk_h=0\n",
        "mxk_c=0\n",
        "mxk_p=0\n",
        "mxk_a=0\n",
        "mxk_j=0\n",
        "mxk_b=0\n",
        "mxk_f=0\n",
        "\n",
        "\n",
        "for i,j in zip(mxk_keys, mxk_values):\n",
        "    if \"T\" in i:\n",
        "        mxk_t+=j\n",
        "    elif \"L\" in i:\n",
        "        mxk_l+=j\n",
        "    elif \"H\" in i:\n",
        "        mxk_h+=j\n",
        "    elif \"C\" in i:\n",
        "        mxk_c+=j\n",
        "    elif \"P\" in i:\n",
        "        mxk_p+=j\n",
        "    elif \"A\" in i:\n",
        "        mxk_a+=j\n",
        "    elif \"J\" in i:\n",
        "        mxk_j+=j\n",
        "    elif \"B\" in i:\n",
        "        mxk_b+=j\n",
        "    elif \"F\" in i:\n",
        "        mxk_f+=j\n",
        "\n",
        "\n",
        "# Mejico\n",
        "\n",
        "mjc_keys, mjc_values = zip(*conteo_mejico_revista.items())\n",
        "\n",
        "mjc_t=0\n",
        "mjc_l=0\n",
        "mjc_h=0\n",
        "mjc_c=0\n",
        "mjc_p=0\n",
        "mjc_a=0\n",
        "mjc_j=0\n",
        "mjc_b=0\n",
        "mjc_f=0\n",
        "\n",
        "\n",
        "for i,j in zip(mjc_keys, mjc_values):\n",
        "    if \"T\" in i:\n",
        "        mjc_t+=j\n",
        "    elif \"L\" in i:\n",
        "        mjc_l+=j\n",
        "    elif \"H\" in i:\n",
        "        mjc_h+=j\n",
        "    elif \"C\" in i:\n",
        "        mjc_c+=j\n",
        "    elif \"P\" in i:\n",
        "        mjc_p+=j\n",
        "    elif \"A\" in i:\n",
        "        mjc_a+=j\n",
        "    elif \"J\" in i:\n",
        "        mjc_j+=j\n",
        "    elif \"B\" in i:\n",
        "        mjc_b+=j\n",
        "    elif \"F\" in i:\n",
        "        mjc_f+=j\n",
        "        \n",
        "\n",
        "# Mejiko\n",
        "\n",
        "mjk_keys, mjk_values = zip(*conteo_mejiko_revista.items())\n",
        "\n",
        "mjk_t=0\n",
        "mjk_l=0\n",
        "mjk_h=0\n",
        "mjk_c=0\n",
        "mjk_p=0\n",
        "mjk_a=0\n",
        "mjk_j=0\n",
        "mjk_b=0\n",
        "mjk_f=0\n",
        "\n",
        "\n",
        "for i,j in zip(mjk_keys, mjk_values):\n",
        "    if \"T\" in i:\n",
        "        mjk_t+=j\n",
        "    elif \"L\" in i:\n",
        "        mjk_l+=j\n",
        "    elif \"H\" in i:\n",
        "        mjk_h+=j\n",
        "    elif \"C\" in i:\n",
        "        mjk_c+=j\n",
        "    elif \"P\" in i:\n",
        "        mjk_p+=j\n",
        "    elif \"A\" in i:\n",
        "        mjk_a+=j\n",
        "    elif \"J\" in i:\n",
        "        mjk_j+=j\n",
        "    elif \"B\" in i:\n",
        "        mjk_b+=j\n",
        "    elif \"F\" in i:\n",
        "        mjk_f+=j\n",
        "\n",
        "        \n",
        "# Neu-Spanien\n",
        "\n",
        "ns_keys, ns_values = zip(*conteo_neuspanien_revista.items())\n",
        "\n",
        "ns_t=0\n",
        "ns_l=0\n",
        "ns_h=0\n",
        "ns_c=0\n",
        "ns_p=0\n",
        "ns_a=0\n",
        "ns_j=0\n",
        "ns_b=0\n",
        "ns_f=0\n",
        "\n",
        "\n",
        "for i,j in zip(ns_keys, ns_values):\n",
        "    if \"T\" in i:\n",
        "        ns_t+=j\n",
        "    elif \"L\" in i:\n",
        "        ns_l+=j\n",
        "    elif \"H\" in i:\n",
        "        ns_h+=j\n",
        "    elif \"C\" in i:\n",
        "        ns_c+=j\n",
        "    elif \"P\" in i:\n",
        "        ns_p+=j\n",
        "    elif \"A\" in i:\n",
        "        ns_a+=j\n",
        "    elif \"J\" in i:\n",
        "        ns_j+=j\n",
        "    elif \"B\" in i:\n",
        "        ns_b+=j\n",
        "    elif \"F\" in i:\n",
        "        ns_f+=j"
      ],
      "metadata": {
        "id": "5Mot21WmQlKi"
      },
      "execution_count": null,
      "outputs": []
    },
    {
      "cell_type": "code",
      "source": [
        "fuentes=[\n",
        "\n",
        "    [mxc_t,mxc_l,mxc_h,mxc_c,mxc_p,mxc_a,mxc_j,mxc_b,mxc_f],\n",
        "    [mxk_t,mxk_l,mxk_h,mxk_c,mxk_p,mxk_a,mxk_j,mxk_b,mxk_f],\n",
        "    [mjc_t,mjc_l,mjc_h,mjc_c,mjc_p,mjc_a,mjc_j,mjc_b,mjc_f],\n",
        "    [mjk_t,mjk_l,mjk_h,mjk_c,mjk_p,mjk_a,mjk_j,mjk_b,mjk_f],\n",
        "    [ns_t,ns_l,ns_h,ns_c,ns_p,ns_a,ns_j,ns_b,ns_f],\n",
        "\n",
        "       ]\n",
        "    \n",
        "matriz=DataFrame(np.array(fuentes))\n",
        "matriz.index=[\"Mexico\",\"Mexiko\",\"Mejico\",\"Mejiko\",\"Neuspanien\"]\n",
        "matriz.columns=[\"T\",\"L\",\"H\",\"C\",\"P\",\"A\",\"J\",\"B\",\"F\"]\n",
        "matriz"
      ],
      "metadata": {
        "colab": {
          "base_uri": "https://localhost:8080/",
          "height": 268
        },
        "id": "5BU90QTRQ_iT",
        "outputId": "8f47dee4-13ec-4555-b117-a43a0854a053"
      },
      "execution_count": null,
      "outputs": [
        {
          "output_type": "execute_result",
          "data": {
            "text/plain": [
              "             T   L   H   C   P   A   J   B  F\n",
              "Mexico       2  11   4  11  22  69  30   5  0\n",
              "Mexiko      66  23  92   3   1  30  42  29  1\n",
              "Mejico       0   0   1   0   0   0   0   8  0\n",
              "Mejiko       0   0  15   0   0   0   0   0  0\n",
              "Neuspanien   3  22  12   1   0   0   0   0  0"
            ],
            "text/html": [
              "\n",
              "  <div id=\"df-da1de9d3-6af9-453e-b94f-355ea47fdcec\">\n",
              "    <div class=\"colab-df-container\">\n",
              "      <div>\n",
              "<style scoped>\n",
              "    .dataframe tbody tr th:only-of-type {\n",
              "        vertical-align: middle;\n",
              "    }\n",
              "\n",
              "    .dataframe tbody tr th {\n",
              "        vertical-align: top;\n",
              "    }\n",
              "\n",
              "    .dataframe thead th {\n",
              "        text-align: right;\n",
              "    }\n",
              "</style>\n",
              "<table border=\"1\" class=\"dataframe\">\n",
              "  <thead>\n",
              "    <tr style=\"text-align: right;\">\n",
              "      <th></th>\n",
              "      <th>T</th>\n",
              "      <th>L</th>\n",
              "      <th>H</th>\n",
              "      <th>C</th>\n",
              "      <th>P</th>\n",
              "      <th>A</th>\n",
              "      <th>J</th>\n",
              "      <th>B</th>\n",
              "      <th>F</th>\n",
              "    </tr>\n",
              "  </thead>\n",
              "  <tbody>\n",
              "    <tr>\n",
              "      <th>Mexico</th>\n",
              "      <td>2</td>\n",
              "      <td>11</td>\n",
              "      <td>4</td>\n",
              "      <td>11</td>\n",
              "      <td>22</td>\n",
              "      <td>69</td>\n",
              "      <td>30</td>\n",
              "      <td>5</td>\n",
              "      <td>0</td>\n",
              "    </tr>\n",
              "    <tr>\n",
              "      <th>Mexiko</th>\n",
              "      <td>66</td>\n",
              "      <td>23</td>\n",
              "      <td>92</td>\n",
              "      <td>3</td>\n",
              "      <td>1</td>\n",
              "      <td>30</td>\n",
              "      <td>42</td>\n",
              "      <td>29</td>\n",
              "      <td>1</td>\n",
              "    </tr>\n",
              "    <tr>\n",
              "      <th>Mejico</th>\n",
              "      <td>0</td>\n",
              "      <td>0</td>\n",
              "      <td>1</td>\n",
              "      <td>0</td>\n",
              "      <td>0</td>\n",
              "      <td>0</td>\n",
              "      <td>0</td>\n",
              "      <td>8</td>\n",
              "      <td>0</td>\n",
              "    </tr>\n",
              "    <tr>\n",
              "      <th>Mejiko</th>\n",
              "      <td>0</td>\n",
              "      <td>0</td>\n",
              "      <td>15</td>\n",
              "      <td>0</td>\n",
              "      <td>0</td>\n",
              "      <td>0</td>\n",
              "      <td>0</td>\n",
              "      <td>0</td>\n",
              "      <td>0</td>\n",
              "    </tr>\n",
              "    <tr>\n",
              "      <th>Neuspanien</th>\n",
              "      <td>3</td>\n",
              "      <td>22</td>\n",
              "      <td>12</td>\n",
              "      <td>1</td>\n",
              "      <td>0</td>\n",
              "      <td>0</td>\n",
              "      <td>0</td>\n",
              "      <td>0</td>\n",
              "      <td>0</td>\n",
              "    </tr>\n",
              "  </tbody>\n",
              "</table>\n",
              "</div>\n",
              "      <button class=\"colab-df-convert\" onclick=\"convertToInteractive('df-da1de9d3-6af9-453e-b94f-355ea47fdcec')\"\n",
              "              title=\"Convert this dataframe to an interactive table.\"\n",
              "              style=\"display:none;\">\n",
              "        \n",
              "  <svg xmlns=\"http://www.w3.org/2000/svg\" height=\"24px\"viewBox=\"0 0 24 24\"\n",
              "       width=\"24px\">\n",
              "    <path d=\"M0 0h24v24H0V0z\" fill=\"none\"/>\n",
              "    <path d=\"M18.56 5.44l.94 2.06.94-2.06 2.06-.94-2.06-.94-.94-2.06-.94 2.06-2.06.94zm-11 1L8.5 8.5l.94-2.06 2.06-.94-2.06-.94L8.5 2.5l-.94 2.06-2.06.94zm10 10l.94 2.06.94-2.06 2.06-.94-2.06-.94-.94-2.06-.94 2.06-2.06.94z\"/><path d=\"M17.41 7.96l-1.37-1.37c-.4-.4-.92-.59-1.43-.59-.52 0-1.04.2-1.43.59L10.3 9.45l-7.72 7.72c-.78.78-.78 2.05 0 2.83L4 21.41c.39.39.9.59 1.41.59.51 0 1.02-.2 1.41-.59l7.78-7.78 2.81-2.81c.8-.78.8-2.07 0-2.86zM5.41 20L4 18.59l7.72-7.72 1.47 1.35L5.41 20z\"/>\n",
              "  </svg>\n",
              "      </button>\n",
              "      \n",
              "  <style>\n",
              "    .colab-df-container {\n",
              "      display:flex;\n",
              "      flex-wrap:wrap;\n",
              "      gap: 12px;\n",
              "    }\n",
              "\n",
              "    .colab-df-convert {\n",
              "      background-color: #E8F0FE;\n",
              "      border: none;\n",
              "      border-radius: 50%;\n",
              "      cursor: pointer;\n",
              "      display: none;\n",
              "      fill: #1967D2;\n",
              "      height: 32px;\n",
              "      padding: 0 0 0 0;\n",
              "      width: 32px;\n",
              "    }\n",
              "\n",
              "    .colab-df-convert:hover {\n",
              "      background-color: #E2EBFA;\n",
              "      box-shadow: 0px 1px 2px rgba(60, 64, 67, 0.3), 0px 1px 3px 1px rgba(60, 64, 67, 0.15);\n",
              "      fill: #174EA6;\n",
              "    }\n",
              "\n",
              "    [theme=dark] .colab-df-convert {\n",
              "      background-color: #3B4455;\n",
              "      fill: #D2E3FC;\n",
              "    }\n",
              "\n",
              "    [theme=dark] .colab-df-convert:hover {\n",
              "      background-color: #434B5C;\n",
              "      box-shadow: 0px 1px 3px 1px rgba(0, 0, 0, 0.15);\n",
              "      filter: drop-shadow(0px 1px 2px rgba(0, 0, 0, 0.3));\n",
              "      fill: #FFFFFF;\n",
              "    }\n",
              "  </style>\n",
              "\n",
              "      <script>\n",
              "        const buttonEl =\n",
              "          document.querySelector('#df-da1de9d3-6af9-453e-b94f-355ea47fdcec button.colab-df-convert');\n",
              "        buttonEl.style.display =\n",
              "          google.colab.kernel.accessAllowed ? 'block' : 'none';\n",
              "\n",
              "        async function convertToInteractive(key) {\n",
              "          const element = document.querySelector('#df-da1de9d3-6af9-453e-b94f-355ea47fdcec');\n",
              "          const dataTable =\n",
              "            await google.colab.kernel.invokeFunction('convertToInteractive',\n",
              "                                                     [key], {});\n",
              "          if (!dataTable) return;\n",
              "\n",
              "          const docLinkHtml = 'Like what you see? Visit the ' +\n",
              "            '<a target=\"_blank\" href=https://colab.research.google.com/notebooks/data_table.ipynb>data table notebook</a>'\n",
              "            + ' to learn more about interactive tables.';\n",
              "          element.innerHTML = '';\n",
              "          dataTable['output_type'] = 'display_data';\n",
              "          await google.colab.output.renderOutput(dataTable, element);\n",
              "          const docLink = document.createElement('div');\n",
              "          docLink.innerHTML = docLinkHtml;\n",
              "          element.appendChild(docLink);\n",
              "        }\n",
              "      </script>\n",
              "    </div>\n",
              "  </div>\n",
              "  "
            ]
          },
          "metadata": {},
          "execution_count": 27
        }
      ]
    },
    {
      "cell_type": "code",
      "source": [
        "matriz.sum(axis=0)"
      ],
      "metadata": {
        "colab": {
          "base_uri": "https://localhost:8080/"
        },
        "id": "L7ybxeCJREI-",
        "outputId": "97368ad9-4f1c-488e-c20c-68f56265026b"
      },
      "execution_count": null,
      "outputs": [
        {
          "output_type": "execute_result",
          "data": {
            "text/plain": [
              "T     71\n",
              "L     56\n",
              "H    124\n",
              "C     15\n",
              "P     23\n",
              "A     99\n",
              "J     72\n",
              "B     42\n",
              "F      1\n",
              "dtype: int64"
            ]
          },
          "metadata": {},
          "execution_count": 28
        }
      ]
    },
    {
      "cell_type": "markdown",
      "source": [
        "## Matriz por tipología textual"
      ],
      "metadata": {
        "id": "cP3eNI0CRKNS"
      }
    },
    {
      "cell_type": "code",
      "source": [
        "# Mexico\n",
        "\n",
        "mxc_keys, mxc_values = zip(*conteo_mexico_tipo.items())\n",
        "\n",
        "mxc_n=0\n",
        "mxc_d=0\n",
        "mxc_e=0\n",
        "\n",
        "\n",
        "\n",
        "for i,j in zip(mxc_keys, mxc_values):\n",
        "    if \"N\" in i:\n",
        "        mxc_n+=j\n",
        "    elif \"D\" in i:\n",
        "        mxc_d+=j\n",
        "    elif \"E\" in i:\n",
        "        mxc_e+=j\n",
        "        \n",
        "        \n",
        "# Mexiko\n",
        "\n",
        "mxk_keys, mxk_values = zip(*conteo_mexiko_tipo.items())\n",
        "\n",
        "mxk_n=0\n",
        "mxk_d=0\n",
        "mxk_e=0\n",
        "\n",
        "\n",
        "\n",
        "for i,j in zip(mxk_keys, mxk_values):\n",
        "    if \"N\" in i:\n",
        "        mxk_n+=j\n",
        "    elif \"D\" in i:\n",
        "        mxk_d+=j\n",
        "    elif \"E\" in i:\n",
        "        mxk_e+=j\n",
        "        \n",
        "\n",
        "# Mejico\n",
        "\n",
        "mjc_keys, mjc_values = zip(*conteo_mejico_tipo.items())\n",
        "\n",
        "mjc_n=0\n",
        "mjc_d=0\n",
        "mjc_e=0\n",
        "\n",
        "\n",
        "\n",
        "for i,j in zip(mjc_keys, mjc_values):\n",
        "    if \"N\" in i:\n",
        "        mjc_n+=j\n",
        "    elif \"D\" in i:\n",
        "        mjc_d+=j\n",
        "    elif \"E\" in i:\n",
        "        mjc_e+=j\n",
        "        \n",
        "        \n",
        "# Mejiko\n",
        "\n",
        "mjk_keys, mjk_values = zip(*conteo_mejiko_tipo.items())\n",
        "\n",
        "mjk_n=0\n",
        "mjk_d=0\n",
        "mjk_e=0\n",
        "\n",
        "\n",
        "\n",
        "for i,j in zip(mjk_keys, mjk_values):\n",
        "    if \"N\" in i:\n",
        "        mjk_n+=j\n",
        "    elif \"D\" in i:\n",
        "        mjk_d+=j\n",
        "    elif \"E\" in i:\n",
        "        mjk_e+=j\n",
        "        \n",
        "\n",
        "# Neu-Spanien\n",
        "\n",
        "ns_keys, ns_values = zip(*conteo_neuspanien_tipo.items())\n",
        "\n",
        "ns_n=0\n",
        "ns_d=0\n",
        "ns_e=0\n",
        "\n",
        "\n",
        "\n",
        "for i,j in zip(ns_keys, ns_values):\n",
        "    if \"N\" in i:\n",
        "        ns_n+=j\n",
        "    elif \"D\" in i:\n",
        "        ns_d+=j\n",
        "    elif \"E\" in i:\n",
        "        ns_e+=j"
      ],
      "metadata": {
        "id": "FcVsCNULRM2o"
      },
      "execution_count": null,
      "outputs": []
    },
    {
      "cell_type": "code",
      "source": [
        "tipa=[\n",
        "    \n",
        "    [mxc_n,mxc_d,mxc_e],\n",
        "    [mxk_n,mxk_d,mxk_e],\n",
        "    [mjc_n,mjc_d,mjc_e],\n",
        "    [mjk_n,mjk_d,mjk_e],\n",
        "    [ns_n,ns_d,ns_e],\n",
        "\n",
        "       ]\n",
        "    \n",
        "matriz=DataFrame(np.array(tipa))\n",
        "matriz.index=[\"Mexico\",\"Mexiko\",\"Mejico\",\"Mejiko\",\"Neuspanien\"]\n",
        "matriz.columns=[\"N\",\"D\",\"E\"]\n",
        "matriz"
      ],
      "metadata": {
        "colab": {
          "base_uri": "https://localhost:8080/",
          "height": 268
        },
        "id": "76oV-ukuRQLM",
        "outputId": "6188f21a-9f7a-4b21-edfd-9f6eef1a6e27"
      },
      "execution_count": null,
      "outputs": [
        {
          "output_type": "execute_result",
          "data": {
            "text/plain": [
              "             N    D   E\n",
              "Mexico      52   68  34\n",
              "Mexiko      33  224  30\n",
              "Mejico       9    0   0\n",
              "Mejiko       6    9   0\n",
              "Neuspanien   1   37   0"
            ],
            "text/html": [
              "\n",
              "  <div id=\"df-ed9c89d5-1796-4c82-8505-c605506f59c6\">\n",
              "    <div class=\"colab-df-container\">\n",
              "      <div>\n",
              "<style scoped>\n",
              "    .dataframe tbody tr th:only-of-type {\n",
              "        vertical-align: middle;\n",
              "    }\n",
              "\n",
              "    .dataframe tbody tr th {\n",
              "        vertical-align: top;\n",
              "    }\n",
              "\n",
              "    .dataframe thead th {\n",
              "        text-align: right;\n",
              "    }\n",
              "</style>\n",
              "<table border=\"1\" class=\"dataframe\">\n",
              "  <thead>\n",
              "    <tr style=\"text-align: right;\">\n",
              "      <th></th>\n",
              "      <th>N</th>\n",
              "      <th>D</th>\n",
              "      <th>E</th>\n",
              "    </tr>\n",
              "  </thead>\n",
              "  <tbody>\n",
              "    <tr>\n",
              "      <th>Mexico</th>\n",
              "      <td>52</td>\n",
              "      <td>68</td>\n",
              "      <td>34</td>\n",
              "    </tr>\n",
              "    <tr>\n",
              "      <th>Mexiko</th>\n",
              "      <td>33</td>\n",
              "      <td>224</td>\n",
              "      <td>30</td>\n",
              "    </tr>\n",
              "    <tr>\n",
              "      <th>Mejico</th>\n",
              "      <td>9</td>\n",
              "      <td>0</td>\n",
              "      <td>0</td>\n",
              "    </tr>\n",
              "    <tr>\n",
              "      <th>Mejiko</th>\n",
              "      <td>6</td>\n",
              "      <td>9</td>\n",
              "      <td>0</td>\n",
              "    </tr>\n",
              "    <tr>\n",
              "      <th>Neuspanien</th>\n",
              "      <td>1</td>\n",
              "      <td>37</td>\n",
              "      <td>0</td>\n",
              "    </tr>\n",
              "  </tbody>\n",
              "</table>\n",
              "</div>\n",
              "      <button class=\"colab-df-convert\" onclick=\"convertToInteractive('df-ed9c89d5-1796-4c82-8505-c605506f59c6')\"\n",
              "              title=\"Convert this dataframe to an interactive table.\"\n",
              "              style=\"display:none;\">\n",
              "        \n",
              "  <svg xmlns=\"http://www.w3.org/2000/svg\" height=\"24px\"viewBox=\"0 0 24 24\"\n",
              "       width=\"24px\">\n",
              "    <path d=\"M0 0h24v24H0V0z\" fill=\"none\"/>\n",
              "    <path d=\"M18.56 5.44l.94 2.06.94-2.06 2.06-.94-2.06-.94-.94-2.06-.94 2.06-2.06.94zm-11 1L8.5 8.5l.94-2.06 2.06-.94-2.06-.94L8.5 2.5l-.94 2.06-2.06.94zm10 10l.94 2.06.94-2.06 2.06-.94-2.06-.94-.94-2.06-.94 2.06-2.06.94z\"/><path d=\"M17.41 7.96l-1.37-1.37c-.4-.4-.92-.59-1.43-.59-.52 0-1.04.2-1.43.59L10.3 9.45l-7.72 7.72c-.78.78-.78 2.05 0 2.83L4 21.41c.39.39.9.59 1.41.59.51 0 1.02-.2 1.41-.59l7.78-7.78 2.81-2.81c.8-.78.8-2.07 0-2.86zM5.41 20L4 18.59l7.72-7.72 1.47 1.35L5.41 20z\"/>\n",
              "  </svg>\n",
              "      </button>\n",
              "      \n",
              "  <style>\n",
              "    .colab-df-container {\n",
              "      display:flex;\n",
              "      flex-wrap:wrap;\n",
              "      gap: 12px;\n",
              "    }\n",
              "\n",
              "    .colab-df-convert {\n",
              "      background-color: #E8F0FE;\n",
              "      border: none;\n",
              "      border-radius: 50%;\n",
              "      cursor: pointer;\n",
              "      display: none;\n",
              "      fill: #1967D2;\n",
              "      height: 32px;\n",
              "      padding: 0 0 0 0;\n",
              "      width: 32px;\n",
              "    }\n",
              "\n",
              "    .colab-df-convert:hover {\n",
              "      background-color: #E2EBFA;\n",
              "      box-shadow: 0px 1px 2px rgba(60, 64, 67, 0.3), 0px 1px 3px 1px rgba(60, 64, 67, 0.15);\n",
              "      fill: #174EA6;\n",
              "    }\n",
              "\n",
              "    [theme=dark] .colab-df-convert {\n",
              "      background-color: #3B4455;\n",
              "      fill: #D2E3FC;\n",
              "    }\n",
              "\n",
              "    [theme=dark] .colab-df-convert:hover {\n",
              "      background-color: #434B5C;\n",
              "      box-shadow: 0px 1px 3px 1px rgba(0, 0, 0, 0.15);\n",
              "      filter: drop-shadow(0px 1px 2px rgba(0, 0, 0, 0.3));\n",
              "      fill: #FFFFFF;\n",
              "    }\n",
              "  </style>\n",
              "\n",
              "      <script>\n",
              "        const buttonEl =\n",
              "          document.querySelector('#df-ed9c89d5-1796-4c82-8505-c605506f59c6 button.colab-df-convert');\n",
              "        buttonEl.style.display =\n",
              "          google.colab.kernel.accessAllowed ? 'block' : 'none';\n",
              "\n",
              "        async function convertToInteractive(key) {\n",
              "          const element = document.querySelector('#df-ed9c89d5-1796-4c82-8505-c605506f59c6');\n",
              "          const dataTable =\n",
              "            await google.colab.kernel.invokeFunction('convertToInteractive',\n",
              "                                                     [key], {});\n",
              "          if (!dataTable) return;\n",
              "\n",
              "          const docLinkHtml = 'Like what you see? Visit the ' +\n",
              "            '<a target=\"_blank\" href=https://colab.research.google.com/notebooks/data_table.ipynb>data table notebook</a>'\n",
              "            + ' to learn more about interactive tables.';\n",
              "          element.innerHTML = '';\n",
              "          dataTable['output_type'] = 'display_data';\n",
              "          await google.colab.output.renderOutput(dataTable, element);\n",
              "          const docLink = document.createElement('div');\n",
              "          docLink.innerHTML = docLinkHtml;\n",
              "          element.appendChild(docLink);\n",
              "        }\n",
              "      </script>\n",
              "    </div>\n",
              "  </div>\n",
              "  "
            ]
          },
          "metadata": {},
          "execution_count": 30
        }
      ]
    },
    {
      "cell_type": "code",
      "source": [
        "matriz.sum(axis=0)"
      ],
      "metadata": {
        "colab": {
          "base_uri": "https://localhost:8080/"
        },
        "id": "5A8J3x-sRSTM",
        "outputId": "12242630-129d-4c6b-befd-44daa19139c0"
      },
      "execution_count": null,
      "outputs": [
        {
          "output_type": "execute_result",
          "data": {
            "text/plain": [
              "N    101\n",
              "D    338\n",
              "E     64\n",
              "dtype: int64"
            ]
          },
          "metadata": {},
          "execution_count": 31
        }
      ]
    },
    {
      "cell_type": "markdown",
      "source": [
        "# Graficación de datos"
      ],
      "metadata": {
        "id": "sBrZKB5gR7K3"
      }
    },
    {
      "cell_type": "markdown",
      "source": [
        "## Graficación por año"
      ],
      "metadata": {
        "id": "PnCnX767R-24"
      }
    },
    {
      "cell_type": "markdown",
      "source": [
        "### \"Mexico\"\n"
      ],
      "metadata": {
        "id": "_6HuVvbjSUrp"
      }
    },
    {
      "cell_type": "code",
      "source": [
        "names_mexico = list(conteo_mexico_año.keys())\n",
        "values_mexico = list(conteo_mexico_año.values())\n",
        "\n",
        "plt.plot(names_mexico, values_mexico,\"-o\")\n",
        "\n",
        "plt.title('Mexico')"
      ],
      "metadata": {
        "colab": {
          "base_uri": "https://localhost:8080/",
          "height": 105
        },
        "id": "1M8kzGcUSeoe",
        "outputId": "701f4f2a-d01f-483f-aef0-95361b4f0492"
      },
      "execution_count": null,
      "outputs": [
        {
          "output_type": "execute_result",
          "data": {
            "text/plain": [
              "Text(0.5, 1.0, 'Mexico')"
            ]
          },
          "metadata": {},
          "execution_count": 32
        },
        {
          "output_type": "display_data",
          "data": {
            "text/plain": [
              "<Figure size 432x288 with 1 Axes>"
            ],
            "image/png": "[encoded data removed]"
          },
          "metadata": {
            "needs_background": "light"
          }
        }
      ]
    },
    {
      "cell_type": "markdown",
      "source": [
        "### \"Mexiko\""
      ],
      "metadata": {
        "id": "pnX9g3D0StyW"
      }
    },
    {
      "cell_type": "code",
      "source": [
        "names_mexiko = sorted(list(conteo_mexiko_año.keys()))\n",
        "values_mexiko = list(conteo_mexiko_año.values())\n",
        "\n",
        "plt.plot(names_mexiko, values_mexiko,\"-o\")\n",
        "plt.title('Mexiko')"
      ],
      "metadata": {
        "colab": {
          "base_uri": "https://localhost:8080/",
          "height": 105
        },
        "id": "BE0IYi_RS77i",
        "outputId": "aac03590-e027-4eb7-cc57-3c1e4b64d001"
      },
      "execution_count": null,
      "outputs": [
        {
          "output_type": "execute_result",
          "data": {
            "text/plain": [
              "Text(0.5, 1.0, 'Mexiko')"
            ]
          },
          "metadata": {},
          "execution_count": 33
        },
        {
          "output_type": "display_data",
          "data": {
            "text/plain": [
              "<Figure size 432x288 with 1 Axes>"
            ],
            "image/png": "[encoded data removed]"
          },
          "metadata": {
            "needs_background": "light"
          }
        }
      ]
    },
    {
      "cell_type": "markdown",
      "source": [
        "### \"Mejico\""
      ],
      "metadata": {
        "id": "bZf3BByeSzg_"
      }
    },
    {
      "cell_type": "code",
      "source": [
        "names_mejico = list(conteo_mejico_año.keys())\n",
        "values_mejico = list((conteo_mejico_año.values()))\n",
        "\n",
        "plt.plot(names_mejico, values_mejico,\"-o\")\n",
        "plt.title('Mejico')"
      ],
      "metadata": {
        "colab": {
          "base_uri": "https://localhost:8080/",
          "height": 105
        },
        "id": "482-RVLTS-f7",
        "outputId": "6a449b52-6002-4cf5-8e3c-8ea019d23346"
      },
      "execution_count": null,
      "outputs": [
        {
          "output_type": "execute_result",
          "data": {
            "text/plain": [
              "Text(0.5, 1.0, 'Mejico')"
            ]
          },
          "metadata": {},
          "execution_count": 34
        },
        {
          "output_type": "display_data",
          "data": {
            "text/plain": [
              "<Figure size 432x288 with 1 Axes>"
            ],
            "image/png": "[encoded data removed]"
          },
          "metadata": {
            "needs_background": "light"
          }
        }
      ]
    },
    {
      "cell_type": "markdown",
      "source": [
        "### \"Mejiko\"\n"
      ],
      "metadata": {
        "id": "XGMMdrzqS1id"
      }
    },
    {
      "cell_type": "code",
      "source": [
        "names_mejiko = list(conteo_mejiko_año.keys())\n",
        "values_mejiko = list(conteo_mejiko_año.values())\n",
        "\n",
        "plt.plot(names_mejiko, values_mejiko,\"-o\")\n",
        "plt.xticks(range(1826,1829),rotation=90)\n",
        "plt.title('Mejiko')"
      ],
      "metadata": {
        "colab": {
          "base_uri": "https://localhost:8080/",
          "height": 105
        },
        "id": "4YMU1aB5TCXe",
        "outputId": "4f0626b9-7e6c-499f-b1cf-ecc0f072be68"
      },
      "execution_count": null,
      "outputs": [
        {
          "output_type": "execute_result",
          "data": {
            "text/plain": [
              "Text(0.5, 1.0, 'Mejiko')"
            ]
          },
          "metadata": {},
          "execution_count": 35
        },
        {
          "output_type": "display_data",
          "data": {
            "text/plain": [
              "<Figure size 432x288 with 1 Axes>"
            ],
            "image/png": "[encoded data removed]"
          },
          "metadata": {
            "needs_background": "light"
          }
        }
      ]
    },
    {
      "cell_type": "markdown",
      "source": [
        "### \"Neu-Spanien\""
      ],
      "metadata": {
        "id": "MZmR8FooS3Nc"
      }
    },
    {
      "cell_type": "code",
      "source": [
        "names_neuspanien = list(conteo_neuspanien_año.keys())\n",
        "values_neuspanien = list(conteo_neuspanien_año.values())\n",
        "\n",
        "plt.plot(names_neuspanien, values_neuspanien,\"-o\")\n",
        "#plt.yticks(range(1,4))\n",
        "plt.xticks(range(1811,1829,5),rotation=90)\n",
        "plt.title('Neu-Spanien')"
      ],
      "metadata": {
        "colab": {
          "base_uri": "https://localhost:8080/",
          "height": 122
        },
        "id": "2RmTo9_cTGcO",
        "outputId": "91977c02-0378-4524-d3dd-c274bb67c77c"
      },
      "execution_count": null,
      "outputs": [
        {
          "output_type": "execute_result",
          "data": {
            "text/plain": [
              "Text(0.5, 1.0, 'Neu-Spanien')"
            ]
          },
          "metadata": {},
          "execution_count": 36
        },
        {
          "output_type": "display_data",
          "data": {
            "text/plain": [
              "<Figure size 432x288 with 1 Axes>"
            ],
            "image/png": "[encoded data removed]"
          },
          "metadata": {
            "needs_background": "light"
          }
        }
      ]
    },
    {
      "cell_type": "markdown",
      "source": [
        "### Serie de tiempo de Alonimia de México"
      ],
      "metadata": {
        "id": "IQ0SBhJ3TInQ"
      }
    },
    {
      "cell_type": "code",
      "source": [
        "plt.plot(names_mexico, values_mexico,\"-o\",color=\"green\",label=\"Mexico\")\n",
        "plt.plot(names_mexiko, values_mexiko,\"-o\",color=\"red\",label=\"Mexiko\")\n",
        "plt.plot(names_mejico, values_mejico,\"-o\",color=\"blue\",label=\"Mejico\")\n",
        "plt.plot(names_mejiko, values_mejiko,\"-o\",color=\"purple\",label=\"Mejiko\")\n",
        "plt.plot(names_neuspanien, values_neuspanien,\"-o\",color=\"orange\",label=\"Neu-Spanien\")\n",
        "plt.legend(loc=\"upper left\")\n",
        "plt.xticks(range(1804,1850,5),rotation=90)\n",
        "\n",
        "plt.xlabel(\"Año\")\n",
        "plt.ylabel(\"No. de topónimos\")\n",
        "plt.title(\"Alonimia México\")\n",
        "\n",
        "plt.savefig('my_imag.png',format='png', dpi=1200)"
      ],
      "metadata": {
        "colab": {
          "base_uri": "https://localhost:8080/",
          "height": 311
        },
        "id": "1oJmZwWtTQ2B",
        "outputId": "a56407ce-2ac7-48ae-f461-28adb1f31a38"
      },
      "execution_count": null,
      "outputs": [
        {
          "output_type": "display_data",
          "data": {
            "text/plain": [
              "<Figure size 432x288 with 1 Axes>"
            ],
            "image/png": "[encoded data removed]"
          },
          "metadata": {
            "needs_background": "light"
          }
        }
      ]
    },
    {
      "cell_type": "markdown",
      "source": [
        "## Graficación por revista"
      ],
      "metadata": {
        "id": "A-GYDNDwTcyI"
      }
    },
    {
      "cell_type": "markdown",
      "source": [
        "### \"Mexico\""
      ],
      "metadata": {
        "id": "fjqR9t6LTg-A"
      }
    },
    {
      "cell_type": "code",
      "source": [
        "names_mexico_revista = list(conteo_mexico_revista.keys())\n",
        "values_mexico_revista = list(conteo_mexico_revista.values())\n",
        "\n",
        "plt.bar(names_mexico_revista, values_mexico_revista)\n",
        "plt.xticks()\n",
        "plt.title('Mexico por fuente')"
      ],
      "metadata": {
        "colab": {
          "base_uri": "https://localhost:8080/",
          "height": 139
        },
        "id": "H1NpbtLITyvo",
        "outputId": "043240fc-dccb-4b26-caf4-9db80098ffdb"
      },
      "execution_count": null,
      "outputs": [
        {
          "output_type": "execute_result",
          "data": {
            "text/plain": [
              "Text(0.5, 1.0, 'Mexico por fuente')"
            ]
          },
          "metadata": {},
          "execution_count": 38
        },
        {
          "output_type": "display_data",
          "data": {
            "text/plain": [
              "<Figure size 432x288 with 1 Axes>"
            ],
            "image/png": "[encoded data removed]"
          },
          "metadata": {
            "needs_background": "light"
          }
        }
      ]
    },
    {
      "cell_type": "markdown",
      "source": [
        "### \"Mexiko\""
      ],
      "metadata": {
        "id": "gU8pXEcFTmAP"
      }
    },
    {
      "cell_type": "code",
      "source": [
        "names_mexiko_revista = list(conteo_mexiko_revista.keys())\n",
        "values_mexiko_revista = list(conteo_mexiko_revista.values())\n",
        "\n",
        "plt.bar(names_mexiko_revista, values_mexiko_revista)\n",
        "plt.xticks()\n",
        "plt.title('Mexiko por fuente')"
      ],
      "metadata": {
        "colab": {
          "base_uri": "https://localhost:8080/",
          "height": 139
        },
        "id": "TvCIDp_qT307",
        "outputId": "428aae41-34e5-4612-baec-77c177e1e349"
      },
      "execution_count": null,
      "outputs": [
        {
          "output_type": "execute_result",
          "data": {
            "text/plain": [
              "Text(0.5, 1.0, 'Mexiko por fuente')"
            ]
          },
          "metadata": {},
          "execution_count": 39
        },
        {
          "output_type": "display_data",
          "data": {
            "text/plain": [
              "<Figure size 432x288 with 1 Axes>"
            ],
            "image/png": "[encoded data removed]"
          },
          "metadata": {
            "needs_background": "light"
          }
        }
      ]
    },
    {
      "cell_type": "markdown",
      "source": [
        "### \"Mejico\""
      ],
      "metadata": {
        "id": "HmIHsjJ_TnEc"
      }
    },
    {
      "cell_type": "code",
      "source": [
        "names_mejico_revista = list(conteo_mejico_revista.keys())\n",
        "values_mejico_revista = list(conteo_mejico_revista.values())\n",
        "\n",
        "plt.bar(names_mejico_revista, values_mejico_revista)\n",
        "plt.xticks()\n",
        "plt.title('Mejico por fuente')"
      ],
      "metadata": {
        "colab": {
          "base_uri": "https://localhost:8080/",
          "height": 139
        },
        "id": "DHtOBuN9T6cy",
        "outputId": "876e933e-946e-400e-9f2b-80e2c376725d"
      },
      "execution_count": null,
      "outputs": [
        {
          "output_type": "execute_result",
          "data": {
            "text/plain": [
              "Text(0.5, 1.0, 'Mejico por fuente')"
            ]
          },
          "metadata": {},
          "execution_count": 40
        },
        {
          "output_type": "display_data",
          "data": {
            "text/plain": [
              "<Figure size 432x288 with 1 Axes>"
            ],
            "image/png": "[encoded data removed]"
          },
          "metadata": {
            "needs_background": "light"
          }
        }
      ]
    },
    {
      "cell_type": "markdown",
      "source": [
        "### \"Mejiko\""
      ],
      "metadata": {
        "id": "5oIPdVz7TsBJ"
      }
    },
    {
      "cell_type": "code",
      "source": [
        "names_mejiko_revista = list(conteo_mejiko_revista.keys())\n",
        "values_mejiko_revista = list(conteo_mejiko_revista.values())\n",
        "\n",
        "plt.bar(names_mejiko_revista, values_mejiko_revista)\n",
        "plt.xticks()\n",
        "plt.title('Mejiko por fuente')"
      ],
      "metadata": {
        "colab": {
          "base_uri": "https://localhost:8080/",
          "height": 139
        },
        "id": "_hXvwv9tT-__",
        "outputId": "1be35c22-cab8-43c4-a123-9c18f0eb090f"
      },
      "execution_count": null,
      "outputs": [
        {
          "output_type": "execute_result",
          "data": {
            "text/plain": [
              "Text(0.5, 1.0, 'Mejiko por fuente')"
            ]
          },
          "metadata": {},
          "execution_count": 41
        },
        {
          "output_type": "display_data",
          "data": {
            "text/plain": [
              "<Figure size 432x288 with 1 Axes>"
            ],
            "image/png": "[encoded data removed]"
          },
          "metadata": {
            "needs_background": "light"
          }
        }
      ]
    },
    {
      "cell_type": "markdown",
      "source": [
        "### \"Neu-Spanien\""
      ],
      "metadata": {
        "id": "PVcPi57STtof"
      }
    },
    {
      "cell_type": "code",
      "source": [
        "names_neuspanien_revista = list(conteo_neuspanien_revista.keys())\n",
        "values_neuspanien_revista = list(conteo_neuspanien_revista.values())\n",
        "\n",
        "plt.bar(names_neuspanien_revista, values_neuspanien_revista)\n",
        "plt.xticks()\n",
        "plt.yticks(range(1,4))\n",
        "plt.title('Neu-Spanien por fuente')"
      ],
      "metadata": {
        "colab": {
          "base_uri": "https://localhost:8080/",
          "height": 156
        },
        "id": "7vaF0bhPUAfC",
        "outputId": "74c8468f-f2b7-41fb-c940-495bb10a6acb"
      },
      "execution_count": null,
      "outputs": [
        {
          "output_type": "execute_result",
          "data": {
            "text/plain": [
              "Text(0.5, 1.0, 'Neu-Spanien por fuente')"
            ]
          },
          "metadata": {},
          "execution_count": 42
        },
        {
          "output_type": "display_data",
          "data": {
            "text/plain": [
              "<Figure size 432x288 with 1 Axes>"
            ],
            "image/png": "[encoded data removed]"
          },
          "metadata": {
            "needs_background": "light"
          }
        }
      ]
    },
    {
      "cell_type": "markdown",
      "source": [
        "### Gráfica de barras apiladas para fuente de publicación"
      ],
      "metadata": {
        "id": "9aZ7qM1nUFUe"
      }
    },
    {
      "cell_type": "code",
      "source": [
        "plt.bar(names_mexico_revista, values_mexico_revista,color=\"green\",label=\"Mexico\")\n",
        "plt.bar(names_mexiko_revista, values_mexiko_revista,color=\"red\",label=\"Mexiko\")\n",
        "plt.bar(names_mejico_revista, values_mejico_revista,color=\"blue\",label=\"Mejico\")\n",
        "plt.bar(names_mejiko_revista, values_mejiko_revista,color=\"purple\",label=\"Mejiko\")\n",
        "plt.bar(names_neuspanien_revista, values_neuspanien_revista,color=\"orange\",label=\"Neu-Spanien\")\n",
        "plt.legend(loc=\"upper left\")\n",
        "\n",
        "plt.xlabel(\"Fuente\")\n",
        "plt.ylabel(\"No. de topónimos\")\n",
        "plt.title(\"Alonimia de México por fuente\")\n",
        "\n",
        "plt.savefig('Fuente_alonimia.png',format='png', dpi=1200)\n",
        "files.download(\"Fuente_alonimia.png\") \n",
        "plt.show()"
      ],
      "metadata": {
        "colab": {
          "base_uri": "https://localhost:8080/",
          "height": 295
        },
        "id": "qorXxEvSULSp",
        "outputId": "585ec8eb-e272-4fa1-d87a-8b7e0ebabbdf"
      },
      "execution_count": null,
      "outputs": [
        {
          "output_type": "display_data",
          "data": {
            "text/plain": [
              "<IPython.core.display.Javascript object>"
            ],
            "application/javascript": [
              "\n",
              "    async function download(id, filename, size) {\n",
              "      if (!google.colab.kernel.accessAllowed) {\n",
              "        return;\n",
              "      }\n",
              "      const div = document.createElement('div');\n",
              "      const label = document.createElement('label');\n",
              "      label.textContent = `Downloading \"${filename}\": `;\n",
              "      div.appendChild(label);\n",
              "      const progress = document.createElement('progress');\n",
              "      progress.max = size;\n",
              "      div.appendChild(progress);\n",
              "      document.body.appendChild(div);\n",
              "\n",
              "      const buffers = [];\n",
              "      let downloaded = 0;\n",
              "\n",
              "      const channel = await google.colab.kernel.comms.open(id);\n",
              "      // Send a message to notify the kernel that we're ready.\n",
              "      channel.send({})\n",
              "\n",
              "      for await (const message of channel.messages) {\n",
              "        // Send a message to notify the kernel that we're ready.\n",
              "        channel.send({})\n",
              "        if (message.buffers) {\n",
              "          for (const buffer of message.buffers) {\n",
              "            buffers.push(buffer);\n",
              "            downloaded += buffer.byteLength;\n",
              "            progress.value = downloaded;\n",
              "          }\n",
              "        }\n",
              "      }\n",
              "      const blob = new Blob(buffers, {type: 'application/binary'});\n",
              "      const a = document.createElement('a');\n",
              "      a.href = window.URL.createObjectURL(blob);\n",
              "      a.download = filename;\n",
              "      div.appendChild(a);\n",
              "      a.click();\n",
              "      div.remove();\n",
              "    }\n",
              "  "
            ]
          },
          "metadata": {}
        },
        {
          "output_type": "display_data",
          "data": {
            "text/plain": [
              "<IPython.core.display.Javascript object>"
            ],
            "application/javascript": [
              "download(\"download_a5cca288-51d7-4373-b8a0-bd959ae9e7c8\", \"Fuente_alonimia.png\", 399730)"
            ]
          },
          "metadata": {}
        },
        {
          "output_type": "display_data",
          "data": {
            "text/plain": [
              "<Figure size 432x288 with 1 Axes>"
            ],
            "image/png": "[encoded data removed]"
          },
          "metadata": {
            "needs_background": "light"
          }
        }
      ]
    },
    {
      "cell_type": "markdown",
      "source": [
        "## Graficación por tipología textual"
      ],
      "metadata": {
        "id": "FCcWNekAUjML"
      }
    },
    {
      "cell_type": "markdown",
      "source": [
        "### \"Mexico\""
      ],
      "metadata": {
        "id": "szFcy8Y4UoLT"
      }
    },
    {
      "cell_type": "code",
      "source": [
        "names_mexico_tipo = list(conteo_mexico_tipo.keys())\n",
        "values_mexico_tipo = list(conteo_mexico_tipo.values())\n",
        "\n",
        "plt.bar(names_mexico_tipo, values_mexico_tipo)\n",
        "plt.xticks()\n",
        "plt.title('Mexico por tipo textual')"
      ],
      "metadata": {
        "colab": {
          "base_uri": "https://localhost:8080/",
          "height": 156
        },
        "id": "1DOPgUKDVG13",
        "outputId": "003aa387-615b-4f0f-edaf-4e0a0a723b86"
      },
      "execution_count": null,
      "outputs": [
        {
          "output_type": "execute_result",
          "data": {
            "text/plain": [
              "Text(0.5, 1.0, 'Mexico por tipo textual')"
            ]
          },
          "metadata": {},
          "execution_count": 44
        },
        {
          "output_type": "display_data",
          "data": {
            "text/plain": [
              "<Figure size 432x288 with 1 Axes>"
            ],
            "image/png": "[encoded data removed]"
          },
          "metadata": {
            "needs_background": "light"
          }
        }
      ]
    },
    {
      "cell_type": "markdown",
      "source": [
        "### \"Mexiko\""
      ],
      "metadata": {
        "id": "TxKfWR0ZUvFS"
      }
    },
    {
      "cell_type": "code",
      "source": [
        "names_mexiko_tipo = list(conteo_mexiko_tipo.keys())\n",
        "values_mexiko_tipo = list(conteo_mexiko_tipo.values())\n",
        "\n",
        "plt.bar(names_mexiko_tipo, values_mexiko_tipo)\n",
        "plt.xticks()\n",
        "plt.title('Mexiko por tipo')"
      ],
      "metadata": {
        "colab": {
          "base_uri": "https://localhost:8080/",
          "height": 139
        },
        "id": "ofBtbhzdVI9X",
        "outputId": "e5997656-dfe4-4e35-d78d-82fbdc992c19"
      },
      "execution_count": null,
      "outputs": [
        {
          "output_type": "execute_result",
          "data": {
            "text/plain": [
              "Text(0.5, 1.0, 'Mexiko por tipo')"
            ]
          },
          "metadata": {},
          "execution_count": 45
        },
        {
          "output_type": "display_data",
          "data": {
            "text/plain": [
              "<Figure size 432x288 with 1 Axes>"
            ],
            "image/png": "[encoded data removed]"
          },
          "metadata": {
            "needs_background": "light"
          }
        }
      ]
    },
    {
      "cell_type": "markdown",
      "source": [
        "### \"Mejico\""
      ],
      "metadata": {
        "id": "eLKyfH8OUvm6"
      }
    },
    {
      "cell_type": "code",
      "source": [
        "names_mejico_tipo = list(conteo_mejico_tipo.keys())\n",
        "values_mejico_tipo = list(conteo_mejico_tipo.values())\n",
        "\n",
        "plt.bar(names_mejico_tipo, values_mejico_tipo)\n",
        "plt.xticks()\n",
        "plt.title('Mejico por tipo')"
      ],
      "metadata": {
        "colab": {
          "base_uri": "https://localhost:8080/",
          "height": 139
        },
        "id": "GQpwxkSHVMv7",
        "outputId": "294aee28-7a2d-4a51-e14d-99896a83eb9a"
      },
      "execution_count": null,
      "outputs": [
        {
          "output_type": "execute_result",
          "data": {
            "text/plain": [
              "Text(0.5, 1.0, 'Mejico por tipo')"
            ]
          },
          "metadata": {},
          "execution_count": 46
        },
        {
          "output_type": "display_data",
          "data": {
            "text/plain": [
              "<Figure size 432x288 with 1 Axes>"
            ],
            "image/png": "[encoded data removed]"
          },
          "metadata": {
            "needs_background": "light"
          }
        }
      ]
    },
    {
      "cell_type": "markdown",
      "source": [
        "### \"Mejiko\""
      ],
      "metadata": {
        "id": "MwT4zzi6Uv2Y"
      }
    },
    {
      "cell_type": "code",
      "source": [
        "names_mejiko_tipo = list(conteo_mejiko_tipo.keys())\n",
        "values_mejiko_tipo = list(conteo_mejiko_tipo.values())\n",
        "\n",
        "plt.bar(names_mejiko_tipo, values_mejiko_tipo)\n",
        "plt.xticks()\n",
        "plt.title('Mejiko por tipo')"
      ],
      "metadata": {
        "colab": {
          "base_uri": "https://localhost:8080/",
          "height": 139
        },
        "id": "X8ttDy75VOcK",
        "outputId": "a87da09b-e405-4033-b3fa-4c65627af380"
      },
      "execution_count": null,
      "outputs": [
        {
          "output_type": "execute_result",
          "data": {
            "text/plain": [
              "Text(0.5, 1.0, 'Mejiko por tipo')"
            ]
          },
          "metadata": {},
          "execution_count": 47
        },
        {
          "output_type": "display_data",
          "data": {
            "text/plain": [
              "<Figure size 432x288 with 1 Axes>"
            ],
            "image/png": "[encoded data removed]"
          },
          "metadata": {
            "needs_background": "light"
          }
        }
      ]
    },
    {
      "cell_type": "markdown",
      "source": [
        "### \"Neu-Spanien\""
      ],
      "metadata": {
        "id": "QX7GwYeCUwFh"
      }
    },
    {
      "cell_type": "code",
      "source": [
        "names_neuspanien_tipo = list(conteo_neuspanien_tipo.keys())\n",
        "values_neuspanien_tipo = list(conteo_neuspanien_tipo.values())\n",
        "\n",
        "plt.bar(names_neuspanien_tipo, values_neuspanien_tipo)\n",
        "plt.xticks()\n",
        "\n",
        "plt.title('Neu-Spanien por tipo')"
      ],
      "metadata": {
        "colab": {
          "base_uri": "https://localhost:8080/",
          "height": 156
        },
        "id": "QWkBN_ZoVQok",
        "outputId": "cd3c9228-26d8-43c8-866e-f5b9d5846427"
      },
      "execution_count": null,
      "outputs": [
        {
          "output_type": "execute_result",
          "data": {
            "text/plain": [
              "Text(0.5, 1.0, 'Neu-Spanien por tipo')"
            ]
          },
          "metadata": {},
          "execution_count": 48
        },
        {
          "output_type": "display_data",
          "data": {
            "text/plain": [
              "<Figure size 432x288 with 1 Axes>"
            ],
            "image/png": "[encoded data removed]"
          },
          "metadata": {
            "needs_background": "light"
          }
        }
      ]
    },
    {
      "cell_type": "markdown",
      "source": [
        "### Gráfica de barras apiladas para tipología"
      ],
      "metadata": {
        "id": "ycYMJ0DYVSpP"
      }
    },
    {
      "cell_type": "code",
      "source": [
        "plt.bar(names_mexico_tipo, values_mexico_tipo,color=\"green\",label=\"Mexico\")\n",
        "plt.bar(names_mexiko_tipo, values_mexiko_tipo,color=\"red\",label=\"Mexiko\")\n",
        "plt.bar(names_mejico_tipo, values_mejico_tipo,color=\"blue\",label=\"Mejico\")\n",
        "plt.bar(names_mejiko_tipo, values_mejiko_tipo,color=\"purple\",label=\"Mejiko\")\n",
        "plt.bar(names_neuspanien_tipo, values_neuspanien_tipo,color=\"orange\",label=\"Neu-Spanien\")\n",
        "plt.legend(loc=\"upper right\")\n",
        "\n",
        "plt.xlabel(\"Tipología textual\")\n",
        "plt.ylabel(\"No. de topónimos\")\n",
        "plt.title(\"Alonimia de México por tipología textual\")\n",
        "\n",
        "plt.savefig('Tipo_.png',format='png', dpi=1200)\n",
        "files.download(\"Tipo_.png\") \n",
        "\n",
        "plt.show()"
      ],
      "metadata": {
        "colab": {
          "base_uri": "https://localhost:8080/",
          "height": 296
        },
        "id": "NK7FkCowVXyd",
        "outputId": "c8df717e-caf7-4da3-c397-d979cbf10cae"
      },
      "execution_count": null,
      "outputs": [
        {
          "output_type": "display_data",
          "data": {
            "text/plain": [
              "<IPython.core.display.Javascript object>"
            ],
            "application/javascript": [
              "\n",
              "    async function download(id, filename, size) {\n",
              "      if (!google.colab.kernel.accessAllowed) {\n",
              "        return;\n",
              "      }\n",
              "      const div = document.createElement('div');\n",
              "      const label = document.createElement('label');\n",
              "      label.textContent = `Downloading \"${filename}\": `;\n",
              "      div.appendChild(label);\n",
              "      const progress = document.createElement('progress');\n",
              "      progress.max = size;\n",
              "      div.appendChild(progress);\n",
              "      document.body.appendChild(div);\n",
              "\n",
              "      const buffers = [];\n",
              "      let downloaded = 0;\n",
              "\n",
              "      const channel = await google.colab.kernel.comms.open(id);\n",
              "      // Send a message to notify the kernel that we're ready.\n",
              "      channel.send({})\n",
              "\n",
              "      for await (const message of channel.messages) {\n",
              "        // Send a message to notify the kernel that we're ready.\n",
              "        channel.send({})\n",
              "        if (message.buffers) {\n",
              "          for (const buffer of message.buffers) {\n",
              "            buffers.push(buffer);\n",
              "            downloaded += buffer.byteLength;\n",
              "            progress.value = downloaded;\n",
              "          }\n",
              "        }\n",
              "      }\n",
              "      const blob = new Blob(buffers, {type: 'application/binary'});\n",
              "      const a = document.createElement('a');\n",
              "      a.href = window.URL.createObjectURL(blob);\n",
              "      a.download = filename;\n",
              "      div.appendChild(a);\n",
              "      a.click();\n",
              "      div.remove();\n",
              "    }\n",
              "  "
            ]
          },
          "metadata": {}
        },
        {
          "output_type": "display_data",
          "data": {
            "text/plain": [
              "<IPython.core.display.Javascript object>"
            ],
            "application/javascript": [
              "download(\"download_af989b7b-ae02-4fe0-9dba-56eb5bb6e6a8\", \"Tipo_.png\", 423754)"
            ]
          },
          "metadata": {}
        },
        {
          "output_type": "display_data",
          "data": {
            "text/plain": [
              "<Figure size 432x288 with 1 Axes>"
            ],
            "image/png": "[encoded data removed]"
          },
          "metadata": {
            "needs_background": "light"
          }
        }
      ]
    },
    {
      "cell_type": "markdown",
      "source": [
        "# Levenshtein - "
      ],
      "metadata": {
        "id": "-kuRNzT819JY"
      }
    }
  ]
}