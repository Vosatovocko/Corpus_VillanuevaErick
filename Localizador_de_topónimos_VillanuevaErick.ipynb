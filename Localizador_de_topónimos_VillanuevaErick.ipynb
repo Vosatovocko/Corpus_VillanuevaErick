{
  "cells": [
    {
      "cell_type": "markdown",
      "metadata": {
        "id": "8qH3zw_9hsSq"
      },
      "source": [
        "# Importación de módulos\n"
      ]
    },
    {
      "cell_type": "code",
      "execution_count": null,
      "metadata": {
        "colab": {
          "base_uri": "https://localhost:8080/"
        },
        "id": "JPXISHNEhxzW",
        "outputId": "e61f1ca1-11e6-4a8d-8d49-8cb58e41cf51"
      },
      "outputs": [
        {
          "name": "stdout",
          "output_type": "stream",
          "text": [
            "Looking in indexes: https://pypi.org/simple, https://us-python.pkg.dev/colab-wheels/public/simple/\n",
            "Requirement already satisfied: pdfminer in /usr/local/lib/python3.7/dist-packages (20191125)\n",
            "Requirement already satisfied: pycryptodome in /usr/local/lib/python3.7/dist-packages (from pdfminer) (3.15.0)\n",
            "Looking in indexes: https://pypi.org/simple, https://us-python.pkg.dev/colab-wheels/public/simple/\n",
            "Requirement already satisfied: spacy in /usr/local/lib/python3.7/dist-packages (3.4.1)\n",
            "Requirement already satisfied: catalogue<2.1.0,>=2.0.6 in /usr/local/lib/python3.7/dist-packages (from spacy) (2.0.8)\n",
            "Requirement already satisfied: srsly<3.0.0,>=2.4.3 in /usr/local/lib/python3.7/dist-packages (from spacy) (2.4.4)\n",
            "Requirement already satisfied: spacy-legacy<3.1.0,>=3.0.9 in /usr/local/lib/python3.7/dist-packages (from spacy) (3.0.10)\n",
            "Requirement already satisfied: thinc<8.2.0,>=8.1.0 in /usr/local/lib/python3.7/dist-packages (from spacy) (8.1.3)\n",
            "Requirement already satisfied: packaging>=20.0 in /usr/local/lib/python3.7/dist-packages (from spacy) (21.3)\n",
            "Requirement already satisfied: numpy>=1.15.0 in /usr/local/lib/python3.7/dist-packages (from spacy) (1.21.6)\n",
            "Requirement already satisfied: spacy-loggers<2.0.0,>=1.0.0 in /usr/local/lib/python3.7/dist-packages (from spacy) (1.0.3)\n",
            "Requirement already satisfied: murmurhash<1.1.0,>=0.28.0 in /usr/local/lib/python3.7/dist-packages (from spacy) (1.0.8)\n",
            "Requirement already satisfied: cymem<2.1.0,>=2.0.2 in /usr/local/lib/python3.7/dist-packages (from spacy) (2.0.6)\n",
            "Requirement already satisfied: tqdm<5.0.0,>=4.38.0 in /usr/local/lib/python3.7/dist-packages (from spacy) (4.64.1)\n",
            "Requirement already satisfied: wasabi<1.1.0,>=0.9.1 in /usr/local/lib/python3.7/dist-packages (from spacy) (0.10.1)\n",
            "Requirement already satisfied: typer<0.5.0,>=0.3.0 in /usr/local/lib/python3.7/dist-packages (from spacy) (0.4.2)\n",
            "Requirement already satisfied: pathy>=0.3.5 in /usr/local/lib/python3.7/dist-packages (from spacy) (0.6.2)\n",
            "Requirement already satisfied: requests<3.0.0,>=2.13.0 in /usr/local/lib/python3.7/dist-packages (from spacy) (2.23.0)\n",
            "Requirement already satisfied: pydantic!=1.8,!=1.8.1,<1.10.0,>=1.7.4 in /usr/local/lib/python3.7/dist-packages (from spacy) (1.9.2)\n",
            "Requirement already satisfied: preshed<3.1.0,>=3.0.2 in /usr/local/lib/python3.7/dist-packages (from spacy) (3.0.7)\n",
            "Requirement already satisfied: setuptools in /usr/local/lib/python3.7/dist-packages (from spacy) (57.4.0)\n",
            "Requirement already satisfied: jinja2 in /usr/local/lib/python3.7/dist-packages (from spacy) (2.11.3)\n",
            "Requirement already satisfied: typing-extensions<4.2.0,>=3.7.4 in /usr/local/lib/python3.7/dist-packages (from spacy) (4.1.1)\n",
            "Requirement already satisfied: langcodes<4.0.0,>=3.2.0 in /usr/local/lib/python3.7/dist-packages (from spacy) (3.3.0)\n",
            "Requirement already satisfied: zipp>=0.5 in /usr/local/lib/python3.7/dist-packages (from catalogue<2.1.0,>=2.0.6->spacy) (3.9.0)\n",
            "Requirement already satisfied: pyparsing!=3.0.5,>=2.0.2 in /usr/local/lib/python3.7/dist-packages (from packaging>=20.0->spacy) (3.0.9)\n",
            "Requirement already satisfied: smart-open<6.0.0,>=5.2.1 in /usr/local/lib/python3.7/dist-packages (from pathy>=0.3.5->spacy) (5.2.1)\n",
            "Requirement already satisfied: certifi>=2017.4.17 in /usr/local/lib/python3.7/dist-packages (from requests<3.0.0,>=2.13.0->spacy) (2022.9.24)\n",
            "Requirement already satisfied: chardet<4,>=3.0.2 in /usr/local/lib/python3.7/dist-packages (from requests<3.0.0,>=2.13.0->spacy) (3.0.4)\n",
            "Requirement already satisfied: urllib3!=1.25.0,!=1.25.1,<1.26,>=1.21.1 in /usr/local/lib/python3.7/dist-packages (from requests<3.0.0,>=2.13.0->spacy) (1.24.3)\n",
            "Requirement already satisfied: idna<3,>=2.5 in /usr/local/lib/python3.7/dist-packages (from requests<3.0.0,>=2.13.0->spacy) (2.10)\n",
            "Requirement already satisfied: blis<0.8.0,>=0.7.8 in /usr/local/lib/python3.7/dist-packages (from thinc<8.2.0,>=8.1.0->spacy) (0.7.8)\n",
            "Requirement already satisfied: confection<1.0.0,>=0.0.1 in /usr/local/lib/python3.7/dist-packages (from thinc<8.2.0,>=8.1.0->spacy) (0.0.3)\n",
            "Requirement already satisfied: click<9.0.0,>=7.1.1 in /usr/local/lib/python3.7/dist-packages (from typer<0.5.0,>=0.3.0->spacy) (7.1.2)\n",
            "Requirement already satisfied: MarkupSafe>=0.23 in /usr/local/lib/python3.7/dist-packages (from jinja2->spacy) (2.0.1)\n",
            "2022-10-13 18:19:30.499256: E tensorflow/stream_executor/cuda/cuda_driver.cc:271] failed call to cuInit: CUDA_ERROR_NO_DEVICE: no CUDA-capable device is detected\n",
            "Looking in indexes: https://pypi.org/simple, https://us-python.pkg.dev/colab-wheels/public/simple/\n",
            "Collecting es-core-news-md==3.4.0\n",
            "  Using cached https://github.com/explosion/spacy-models/releases/download/es_core_news_md-3.4.0/es_core_news_md-3.4.0-py3-none-any.whl (42.3 MB)\n",
            "Requirement already satisfied: spacy<3.5.0,>=3.4.0 in /usr/local/lib/python3.7/dist-packages (from es-core-news-md==3.4.0) (3.4.1)\n",
            "Requirement already satisfied: numpy>=1.15.0 in /usr/local/lib/python3.7/dist-packages (from spacy<3.5.0,>=3.4.0->es-core-news-md==3.4.0) (1.21.6)\n",
            "Requirement already satisfied: preshed<3.1.0,>=3.0.2 in /usr/local/lib/python3.7/dist-packages (from spacy<3.5.0,>=3.4.0->es-core-news-md==3.4.0) (3.0.7)\n",
            "Requirement already satisfied: murmurhash<1.1.0,>=0.28.0 in /usr/local/lib/python3.7/dist-packages (from spacy<3.5.0,>=3.4.0->es-core-news-md==3.4.0) (1.0.8)\n",
            "Requirement already satisfied: cymem<2.1.0,>=2.0.2 in /usr/local/lib/python3.7/dist-packages (from spacy<3.5.0,>=3.4.0->es-core-news-md==3.4.0) (2.0.6)\n",
            "Requirement already satisfied: pydantic!=1.8,!=1.8.1,<1.10.0,>=1.7.4 in /usr/local/lib/python3.7/dist-packages (from spacy<3.5.0,>=3.4.0->es-core-news-md==3.4.0) (1.9.2)\n",
            "Requirement already satisfied: langcodes<4.0.0,>=3.2.0 in /usr/local/lib/python3.7/dist-packages (from spacy<3.5.0,>=3.4.0->es-core-news-md==3.4.0) (3.3.0)\n",
            "Requirement already satisfied: thinc<8.2.0,>=8.1.0 in /usr/local/lib/python3.7/dist-packages (from spacy<3.5.0,>=3.4.0->es-core-news-md==3.4.0) (8.1.3)\n",
            "Requirement already satisfied: spacy-loggers<2.0.0,>=1.0.0 in /usr/local/lib/python3.7/dist-packages (from spacy<3.5.0,>=3.4.0->es-core-news-md==3.4.0) (1.0.3)\n",
            "Requirement already satisfied: typing-extensions<4.2.0,>=3.7.4 in /usr/local/lib/python3.7/dist-packages (from spacy<3.5.0,>=3.4.0->es-core-news-md==3.4.0) (4.1.1)\n",
            "Requirement already satisfied: packaging>=20.0 in /usr/local/lib/python3.7/dist-packages (from spacy<3.5.0,>=3.4.0->es-core-news-md==3.4.0) (21.3)\n",
            "Requirement already satisfied: typer<0.5.0,>=0.3.0 in /usr/local/lib/python3.7/dist-packages (from spacy<3.5.0,>=3.4.0->es-core-news-md==3.4.0) (0.4.2)\n",
            "Requirement already satisfied: srsly<3.0.0,>=2.4.3 in /usr/local/lib/python3.7/dist-packages (from spacy<3.5.0,>=3.4.0->es-core-news-md==3.4.0) (2.4.4)\n",
            "Requirement already satisfied: spacy-legacy<3.1.0,>=3.0.9 in /usr/local/lib/python3.7/dist-packages (from spacy<3.5.0,>=3.4.0->es-core-news-md==3.4.0) (3.0.10)\n",
            "Requirement already satisfied: catalogue<2.1.0,>=2.0.6 in /usr/local/lib/python3.7/dist-packages (from spacy<3.5.0,>=3.4.0->es-core-news-md==3.4.0) (2.0.8)\n",
            "Requirement already satisfied: tqdm<5.0.0,>=4.38.0 in /usr/local/lib/python3.7/dist-packages (from spacy<3.5.0,>=3.4.0->es-core-news-md==3.4.0) (4.64.1)\n",
            "Requirement already satisfied: requests<3.0.0,>=2.13.0 in /usr/local/lib/python3.7/dist-packages (from spacy<3.5.0,>=3.4.0->es-core-news-md==3.4.0) (2.23.0)\n",
            "Requirement already satisfied: pathy>=0.3.5 in /usr/local/lib/python3.7/dist-packages (from spacy<3.5.0,>=3.4.0->es-core-news-md==3.4.0) (0.6.2)\n",
            "Requirement already satisfied: jinja2 in /usr/local/lib/python3.7/dist-packages (from spacy<3.5.0,>=3.4.0->es-core-news-md==3.4.0) (2.11.3)\n",
            "Requirement already satisfied: wasabi<1.1.0,>=0.9.1 in /usr/local/lib/python3.7/dist-packages (from spacy<3.5.0,>=3.4.0->es-core-news-md==3.4.0) (0.10.1)\n",
            "Requirement already satisfied: setuptools in /usr/local/lib/python3.7/dist-packages (from spacy<3.5.0,>=3.4.0->es-core-news-md==3.4.0) (57.4.0)\n",
            "Requirement already satisfied: zipp>=0.5 in /usr/local/lib/python3.7/dist-packages (from catalogue<2.1.0,>=2.0.6->spacy<3.5.0,>=3.4.0->es-core-news-md==3.4.0) (3.9.0)\n",
            "Requirement already satisfied: pyparsing!=3.0.5,>=2.0.2 in /usr/local/lib/python3.7/dist-packages (from packaging>=20.0->spacy<3.5.0,>=3.4.0->es-core-news-md==3.4.0) (3.0.9)\n",
            "Requirement already satisfied: smart-open<6.0.0,>=5.2.1 in /usr/local/lib/python3.7/dist-packages (from pathy>=0.3.5->spacy<3.5.0,>=3.4.0->es-core-news-md==3.4.0) (5.2.1)\n",
            "Requirement already satisfied: chardet<4,>=3.0.2 in /usr/local/lib/python3.7/dist-packages (from requests<3.0.0,>=2.13.0->spacy<3.5.0,>=3.4.0->es-core-news-md==3.4.0) (3.0.4)\n",
            "Requirement already satisfied: urllib3!=1.25.0,!=1.25.1,<1.26,>=1.21.1 in /usr/local/lib/python3.7/dist-packages (from requests<3.0.0,>=2.13.0->spacy<3.5.0,>=3.4.0->es-core-news-md==3.4.0) (1.24.3)\n",
            "Requirement already satisfied: idna<3,>=2.5 in /usr/local/lib/python3.7/dist-packages (from requests<3.0.0,>=2.13.0->spacy<3.5.0,>=3.4.0->es-core-news-md==3.4.0) (2.10)\n",
            "Requirement already satisfied: certifi>=2017.4.17 in /usr/local/lib/python3.7/dist-packages (from requests<3.0.0,>=2.13.0->spacy<3.5.0,>=3.4.0->es-core-news-md==3.4.0) (2022.9.24)\n",
            "Requirement already satisfied: confection<1.0.0,>=0.0.1 in /usr/local/lib/python3.7/dist-packages (from thinc<8.2.0,>=8.1.0->spacy<3.5.0,>=3.4.0->es-core-news-md==3.4.0) (0.0.3)\n",
            "Requirement already satisfied: blis<0.8.0,>=0.7.8 in /usr/local/lib/python3.7/dist-packages (from thinc<8.2.0,>=8.1.0->spacy<3.5.0,>=3.4.0->es-core-news-md==3.4.0) (0.7.8)\n",
            "Requirement already satisfied: click<9.0.0,>=7.1.1 in /usr/local/lib/python3.7/dist-packages (from typer<0.5.0,>=0.3.0->spacy<3.5.0,>=3.4.0->es-core-news-md==3.4.0) (7.1.2)\n",
            "Requirement already satisfied: MarkupSafe>=0.23 in /usr/local/lib/python3.7/dist-packages (from jinja2->spacy<3.5.0,>=3.4.0->es-core-news-md==3.4.0) (2.0.1)\n",
            "\u001b[38;5;2m✔ Download and installation successful\u001b[0m\n",
            "You can now load the package via spacy.load('es_core_news_md')\n",
            "2022-10-13 18:19:40.716260: E tensorflow/stream_executor/cuda/cuda_driver.cc:271] failed call to cuInit: CUDA_ERROR_NO_DEVICE: no CUDA-capable device is detected\n",
            "Looking in indexes: https://pypi.org/simple, https://us-python.pkg.dev/colab-wheels/public/simple/\n",
            "Collecting de-core-news-md==3.4.0\n",
            "  Using cached https://github.com/explosion/spacy-models/releases/download/de_core_news_md-3.4.0/de_core_news_md-3.4.0-py3-none-any.whl (44.4 MB)\n",
            "Requirement already satisfied: spacy<3.5.0,>=3.4.0 in /usr/local/lib/python3.7/dist-packages (from de-core-news-md==3.4.0) (3.4.1)\n",
            "Requirement already satisfied: thinc<8.2.0,>=8.1.0 in /usr/local/lib/python3.7/dist-packages (from spacy<3.5.0,>=3.4.0->de-core-news-md==3.4.0) (8.1.3)\n",
            "Requirement already satisfied: cymem<2.1.0,>=2.0.2 in /usr/local/lib/python3.7/dist-packages (from spacy<3.5.0,>=3.4.0->de-core-news-md==3.4.0) (2.0.6)\n",
            "Requirement already satisfied: requests<3.0.0,>=2.13.0 in /usr/local/lib/python3.7/dist-packages (from spacy<3.5.0,>=3.4.0->de-core-news-md==3.4.0) (2.23.0)\n",
            "Requirement already satisfied: packaging>=20.0 in /usr/local/lib/python3.7/dist-packages (from spacy<3.5.0,>=3.4.0->de-core-news-md==3.4.0) (21.3)\n",
            "Requirement already satisfied: pydantic!=1.8,!=1.8.1,<1.10.0,>=1.7.4 in /usr/local/lib/python3.7/dist-packages (from spacy<3.5.0,>=3.4.0->de-core-news-md==3.4.0) (1.9.2)\n",
            "Requirement already satisfied: murmurhash<1.1.0,>=0.28.0 in /usr/local/lib/python3.7/dist-packages (from spacy<3.5.0,>=3.4.0->de-core-news-md==3.4.0) (1.0.8)\n",
            "Requirement already satisfied: numpy>=1.15.0 in /usr/local/lib/python3.7/dist-packages (from spacy<3.5.0,>=3.4.0->de-core-news-md==3.4.0) (1.21.6)\n",
            "Requirement already satisfied: catalogue<2.1.0,>=2.0.6 in /usr/local/lib/python3.7/dist-packages (from spacy<3.5.0,>=3.4.0->de-core-news-md==3.4.0) (2.0.8)\n",
            "Requirement already satisfied: typing-extensions<4.2.0,>=3.7.4 in /usr/local/lib/python3.7/dist-packages (from spacy<3.5.0,>=3.4.0->de-core-news-md==3.4.0) (4.1.1)\n",
            "Requirement already satisfied: preshed<3.1.0,>=3.0.2 in /usr/local/lib/python3.7/dist-packages (from spacy<3.5.0,>=3.4.0->de-core-news-md==3.4.0) (3.0.7)\n",
            "Requirement already satisfied: setuptools in /usr/local/lib/python3.7/dist-packages (from spacy<3.5.0,>=3.4.0->de-core-news-md==3.4.0) (57.4.0)\n",
            "Requirement already satisfied: tqdm<5.0.0,>=4.38.0 in /usr/local/lib/python3.7/dist-packages (from spacy<3.5.0,>=3.4.0->de-core-news-md==3.4.0) (4.64.1)\n",
            "Requirement already satisfied: jinja2 in /usr/local/lib/python3.7/dist-packages (from spacy<3.5.0,>=3.4.0->de-core-news-md==3.4.0) (2.11.3)\n",
            "Requirement already satisfied: typer<0.5.0,>=0.3.0 in /usr/local/lib/python3.7/dist-packages (from spacy<3.5.0,>=3.4.0->de-core-news-md==3.4.0) (0.4.2)\n",
            "Requirement already satisfied: srsly<3.0.0,>=2.4.3 in /usr/local/lib/python3.7/dist-packages (from spacy<3.5.0,>=3.4.0->de-core-news-md==3.4.0) (2.4.4)\n",
            "Requirement already satisfied: spacy-legacy<3.1.0,>=3.0.9 in /usr/local/lib/python3.7/dist-packages (from spacy<3.5.0,>=3.4.0->de-core-news-md==3.4.0) (3.0.10)\n",
            "Requirement already satisfied: langcodes<4.0.0,>=3.2.0 in /usr/local/lib/python3.7/dist-packages (from spacy<3.5.0,>=3.4.0->de-core-news-md==3.4.0) (3.3.0)\n",
            "Requirement already satisfied: pathy>=0.3.5 in /usr/local/lib/python3.7/dist-packages (from spacy<3.5.0,>=3.4.0->de-core-news-md==3.4.0) (0.6.2)\n",
            "Requirement already satisfied: spacy-loggers<2.0.0,>=1.0.0 in /usr/local/lib/python3.7/dist-packages (from spacy<3.5.0,>=3.4.0->de-core-news-md==3.4.0) (1.0.3)\n",
            "Requirement already satisfied: wasabi<1.1.0,>=0.9.1 in /usr/local/lib/python3.7/dist-packages (from spacy<3.5.0,>=3.4.0->de-core-news-md==3.4.0) (0.10.1)\n",
            "Requirement already satisfied: zipp>=0.5 in /usr/local/lib/python3.7/dist-packages (from catalogue<2.1.0,>=2.0.6->spacy<3.5.0,>=3.4.0->de-core-news-md==3.4.0) (3.9.0)\n",
            "Requirement already satisfied: pyparsing!=3.0.5,>=2.0.2 in /usr/local/lib/python3.7/dist-packages (from packaging>=20.0->spacy<3.5.0,>=3.4.0->de-core-news-md==3.4.0) (3.0.9)\n",
            "Requirement already satisfied: smart-open<6.0.0,>=5.2.1 in /usr/local/lib/python3.7/dist-packages (from pathy>=0.3.5->spacy<3.5.0,>=3.4.0->de-core-news-md==3.4.0) (5.2.1)\n",
            "Requirement already satisfied: urllib3!=1.25.0,!=1.25.1,<1.26,>=1.21.1 in /usr/local/lib/python3.7/dist-packages (from requests<3.0.0,>=2.13.0->spacy<3.5.0,>=3.4.0->de-core-news-md==3.4.0) (1.24.3)\n",
            "Requirement already satisfied: idna<3,>=2.5 in /usr/local/lib/python3.7/dist-packages (from requests<3.0.0,>=2.13.0->spacy<3.5.0,>=3.4.0->de-core-news-md==3.4.0) (2.10)\n",
            "Requirement already satisfied: chardet<4,>=3.0.2 in /usr/local/lib/python3.7/dist-packages (from requests<3.0.0,>=2.13.0->spacy<3.5.0,>=3.4.0->de-core-news-md==3.4.0) (3.0.4)\n",
            "Requirement already satisfied: certifi>=2017.4.17 in /usr/local/lib/python3.7/dist-packages (from requests<3.0.0,>=2.13.0->spacy<3.5.0,>=3.4.0->de-core-news-md==3.4.0) (2022.9.24)\n",
            "Requirement already satisfied: blis<0.8.0,>=0.7.8 in /usr/local/lib/python3.7/dist-packages (from thinc<8.2.0,>=8.1.0->spacy<3.5.0,>=3.4.0->de-core-news-md==3.4.0) (0.7.8)\n",
            "Requirement already satisfied: confection<1.0.0,>=0.0.1 in /usr/local/lib/python3.7/dist-packages (from thinc<8.2.0,>=8.1.0->spacy<3.5.0,>=3.4.0->de-core-news-md==3.4.0) (0.0.3)\n",
            "Requirement already satisfied: click<9.0.0,>=7.1.1 in /usr/local/lib/python3.7/dist-packages (from typer<0.5.0,>=0.3.0->spacy<3.5.0,>=3.4.0->de-core-news-md==3.4.0) (7.1.2)\n",
            "Requirement already satisfied: MarkupSafe>=0.23 in /usr/local/lib/python3.7/dist-packages (from jinja2->spacy<3.5.0,>=3.4.0->de-core-news-md==3.4.0) (2.0.1)\n",
            "\u001b[38;5;2m✔ Download and installation successful\u001b[0m\n",
            "You can now load the package via spacy.load('de_core_news_md')\n"
          ]
        }
      ],
      "source": [
        "!pip install pdfminer\n",
        "\n",
        "import pdfminer\n",
        "\n",
        "from io import StringIO\n",
        "\n",
        "from pdfminer.converter import TextConverter\n",
        "from pdfminer.pdfinterp import PDFResourceManager, PDFPageInterpreter\n",
        "from pdfminer.pdfpage import PDFPage\n",
        "from pdfminer.layout import LAParams\n",
        "\n",
        "!pip install --upgrade spacy\n",
        "\n",
        "import spacy\n",
        "from spacy import displacy\n",
        "\n",
        "!python -m spacy download es_core_news_md\n",
        "!python -m spacy download de_core_news_md\n",
        "\n",
        "nlp_es = spacy.load(\"es_core_news_md\")\n",
        "nlp_de = spacy.load(\"de_core_news_md\")\n",
        "\n",
        "from spacy.matcher import Matcher\n",
        "matcher = Matcher(nlp_de.vocab)\n",
        "\n",
        "import collections\n",
        "import string\n",
        "import csv\n",
        "import matplotlib\n",
        "import pandas\n",
        "import re\n",
        "import pprint\n",
        "import numpy as np\n",
        "import matplotlib.pyplot as plt\n",
        "from pandas import DataFrame\n",
        "\n",
        "from google.colab import files\n",
        "\n",
        "punct=string.punctuation"
      ]
    },
    {
      "cell_type": "markdown",
      "metadata": {
        "id": "PoccoX_PkcHv"
      },
      "source": [
        "# Localización de textos a partir de una cadena"
      ]
    },
    {
      "cell_type": "code",
      "execution_count": null,
      "metadata": {
        "id": "ZzzqVQrhkrnC"
      },
      "outputs": [],
      "source": [
        "textos_pdf= [i for i in range(22,25)]+[i for i in range(26,35)] #textos de 1826 "
      ]
    },
    {
      "cell_type": "code",
      "execution_count": null,
      "metadata": {
        "id": "Gno6_NTVl6Jb"
      },
      "outputs": [],
      "source": [
        "archivo=!unzip Archiv.zip"
      ]
    },
    {
      "cell_type": "code",
      "execution_count": null,
      "metadata": {
        "colab": {
          "base_uri": "https://localhost:8080/"
        },
        "id": "GyOXoSbDnaMl",
        "outputId": "4c1adbeb-cd70-467d-a8e6-e9c5a3b0a6a1"
      },
      "outputs": [
        {
          "output_type": "stream",
          "name": "stdout",
          "text": [
            "['Archive:  Archiv.zip', '  End-of-central-directory signature not found.  Either this file is not', '  a zipfile, or it constitutes one disk of a multi-part archive.  In the', '  latter case the central directory and zipfile comment will be found on', '  the last disk(s) of this archive.', 'unzip:  cannot find zipfile directory in one of Archiv.zip or', '        Archiv.zip.zip, and cannot find Archiv.zip.ZIP, period.']\n"
          ]
        }
      ],
      "source": [
        "print([i for i in archivo])"
      ]
    },
    {
      "cell_type": "code",
      "execution_count": null,
      "metadata": {
        "id": "O6bACoF4kvgb"
      },
      "outputs": [],
      "source": [
        "def buscador_toponimos(textos,toponimo): #declaración de la función\n",
        "    \n",
        "    for i in textos: #itera \"textos\" y recupera cada número en la lista\n",
        "        with open(str(i)+\".pdf\", 'rb') as file: #abre cada documento con los números de la lista como nombre\n",
        "            rsrcmgr = PDFResourceManager() #esta línea y las siguientes son las configuraciones necesarias para extraer el texto con pdfminer\n",
        "            retstr = StringIO()\n",
        "            device = TextConverter(rsrcmgr, retstr, codec=\"utf-8\", laparams=LAParams())\n",
        "            interpreter = PDFPageInterpreter(rsrcmgr, device)\n",
        "\n",
        "            pages_text = [] #aquí se almacena el texto página por página\n",
        "            page_count=0 #contador de páginas del PDF\n",
        "\n",
        "            num_texto=str(i) #recupera el nombre (que es igual al número) del texto\n",
        "\n",
        "            for page in PDFPage.get_pages(file): #esta línea y las siguientes son las configuraciones necesarias para almacenar el texto, página por página, en la variable pages_text \n",
        "                read_position = retstr.tell()\n",
        "                interpreter.process_page(page)\n",
        "                retstr.seek(read_position, 0)\n",
        "                page_text = retstr.read()\n",
        "                pages_text.append(page_text)\n",
        "\n",
        "        for i in pages_text: #una vez almacenado el texto de cada página en listas se itera cada lista\n",
        "            page_count+=1 #se actualiza el contador de páginas por cada iteración\n",
        "            lista_palabras=i.split() #se separa en palabras la cadena de la página\n",
        "            lista_top=[j for j in lista_palabras if toponimo in j] #se almacenan las palabras que coincidan con la cadena de caracteres ingresada al llamar a la función en la variable lista_top\n",
        "            if len(lista_top)>0: #se comprueba que la lista no esté vacía\n",
        "                print(\"Texto: \"+str(num_texto)+\" ,página: \"+str(page_count)+\":\") #se imprime encabezado con el numero de texto y de pá\n",
        "                print(lista_top) #se imprimen los resultados\n",
        "                print(\"\\n\")"
      ]
    },
    {
      "cell_type": "code",
      "source": [
        "buscador_toponimos(textos_pdf,\"Mexik\")\n",
        "\n",
        "#Problemas:\n",
        "#Es necesario ingresar cada variante del topónimo"
      ],
      "metadata": {
        "id": "F3aSxF2dwBwx"
      },
      "execution_count": null,
      "outputs": []
    },
    {
      "cell_type": "markdown",
      "source": [
        "# Localización de \"México\" con Regex y SpaCy"
      ],
      "metadata": {
        "id": "qrlU4UI5wI3e"
      }
    },
    {
      "cell_type": "code",
      "source": [
        "for i in textos_pdf:\n",
        "\n",
        "    with open(\"/Users/erickvillanueva/Documents/Textos Corpus De - Editado/\"+str(i)+\".pdf\", 'rb') as file:\n",
        "\n",
        "        rsrcmgr = PDFResourceManager()\n",
        "        retstr = StringIO()\n",
        "        device = TextConverter(rsrcmgr, retstr, codec=\"utf-8\", laparams=LAParams())\n",
        "        interpreter = PDFPageInterpreter(rsrcmgr, device)\n",
        "\n",
        "        pages_text = []\n",
        "        page_count=0\n",
        "\n",
        "        num_texto=str(i)\n",
        "\n",
        "        for page in PDFPage.get_pages(file):\n",
        "            read_position = retstr.tell()\n",
        "            interpreter.process_page(page)\n",
        "            retstr.seek(read_position, 0)\n",
        "            page_text = retstr.read()\n",
        "            pages_text.append(page_text)\n",
        "    \n",
        "    for i in pages_text:\n",
        "        page_count+=1\n",
        "        matches = re.finditer(r\"(M|m)e(x|j)i(c|k)\\S+\", i) #se crea una tupla con los matches de la expresión regular; (x|y): alternancia entre caracteres; \\w+: 1 o más caracteres alfanuméricos \n",
        "        \n",
        "        lista_matches=[k.group() for k in matches] # se crea una lista de la tupla para poder iterarla\n",
        "\n",
        "        nom1 = [{\"LOWER\": \"neu spanien\"}] #se crea un patrón de Matcher para \"Neu Spanien\" con cualquier caracter entre ambos elementos; , borré: {...},{\"IS_SPACE\":True}, {\"LOWER\": \"spanien\"}\n",
        "        nom2 = [{\"LOWER\": \"neuspanien\"}] # otro patrón para \"Neuspanien\"\n",
        "        nom3 = [{\"LOWER\": \"neu-spanien\"}] # otro patrón para \"Neu-Spanien\"\n",
        "\n",
        "        matcher.add(\"Neuspanien\", [nom1,nom2,nom3]) #se crea un modelo con los patrones\n",
        "\n",
        "        for match_id, start, end in matcher(nlp_de(i)): #se crea una cadena de la lista de matches anterior como objeto de SpaCy; se llama los matches y sus \"coordenadas\" \n",
        "            string_id = nlp_de.vocab.strings[match_id] #se extrae la cadena del objeto de SpaCy  \n",
        "            span = nlp_de(i)[start:end] #se guardan las coordenadas token en span                 \n",
        "            lista_matches.append(span.text) # se añaden los matches a lista_matches\n",
        "\n",
        "        if lista_matches:\n",
        "            print(\"Texto: \"+str(num_texto)+\" ,página: \"+str(page_count)+\":\")\n",
        "            print(lista_matches)\n",
        "            print(\"\\n\")\n",
        "\n",
        "    print(\"–––––––––––––––––––––––––––––––––––––––––––––––––––––––––––––––––––––––––––––––––––\")\n",
        "\n",
        "#Problemas:\n",
        "#Es necesario conocer las alternancias de grafia y las variantes nominales de diversidad de palabras e ingresarlas para cada topónimo"
      ],
      "metadata": {
        "id": "9h0o_Aq2wMgW"
      },
      "execution_count": null,
      "outputs": []
    },
    {
      "cell_type": "code",
      "source": [
        "#OBTENER NUMERO DE PALABRAS DE CADA TOPÓNIMO\n",
        "#RELACIONADO CON EL CÁLCULO DE VERDADEROS NEGATIVOS PARA EL F1-SCORE\n",
        "#COMPARÉ LOS RESULTADOS CON EL CONTADOR DE PALABRAS DE WORD Y HAY COINCIDENCIA CASI PERFECTA\n",
        "\n",
        "for i in textos_pdf:\n",
        "\n",
        "    with open(\"/Users/erickvillanueva/Documents/Textos Corpus De - Editado/\"+str(i)+\".pdf\", 'rb') as file:\n",
        "\n",
        "        rsrcmgr = PDFResourceManager()\n",
        "        retstr = StringIO()\n",
        "        device = TextConverter(rsrcmgr, retstr, codec=\"utf-8\", laparams=LAParams())\n",
        "        interpreter = PDFPageInterpreter(rsrcmgr, device)\n",
        "\n",
        "        pages_text = []\n",
        "        page_count=0\n",
        "        \n",
        "        conteo=0\n",
        "        \n",
        "        num_texto=str(i)\n",
        "\n",
        "        for page in PDFPage.get_pages(file):\n",
        "            read_position = retstr.tell()\n",
        "            interpreter.process_page(page)\n",
        "            retstr.seek(read_position, 0)\n",
        "            page_text = retstr.read()\n",
        "            pages_text.append(page_text)\n",
        "      \n",
        "        for i in pages_text:\n",
        "            conteo+=len(i.split())\n",
        "    \n",
        "        \n",
        "    print(\"Texto: \"+str(num_texto)+\": \"+str(conteo))"
      ],
      "metadata": {
        "id": "5Fxl-BUzwVnV"
      },
      "execution_count": null,
      "outputs": []
    },
    {
      "cell_type": "code",
      "source": [
        "#OBTENER TEXTO POR PÁGINA – PARA COTEJAR CON LOS ARCHIVOS CVS (EL GOLD STANDARD)\n",
        "\n",
        "for i in range(24,25):\n",
        "\n",
        "    with open(\"/Users/erickvillanueva/Documents/Textos Corpus De - Editado/\"+str(i)+\".pdf\", 'rb') as file:\n",
        "\n",
        "        rsrcmgr = PDFResourceManager()\n",
        "        retstr = StringIO()\n",
        "        device = TextConverter(rsrcmgr, retstr, codec=\"utf-8\", laparams=LAParams())\n",
        "        interpreter = PDFPageInterpreter(rsrcmgr, device)\n",
        "\n",
        "        pages_text = []\n",
        "        page_count=0\n",
        "        \n",
        "        conteo=0\n",
        "        \n",
        "        num_texto=str(i)\n",
        "\n",
        "        for page in PDFPage.get_pages(file):\n",
        "            read_position = retstr.tell()\n",
        "            interpreter.process_page(page)\n",
        "            retstr.seek(read_position, 0)\n",
        "            page_text = retstr.read()\n",
        "            pages_text.append(page_text)\n",
        "      \n",
        "        for i in pages_text:\n",
        "            page_count+=1 \n",
        "            print(\"Texto: \"+str(num_texto)+\", página: \"+str(page_count)+\" –––––––––––––––––––––––––––––––––––––––––––\")\n",
        "            print(\"\\n\")\n",
        "            print(i)\n",
        "            print(\"\\n\")\n",
        "        \n",
        "    print(\"–––––––––––––––––––––––– Fin del texto ––––––––––––––––––––––––\")"
      ],
      "metadata": {
        "id": "Y6HjO3QIwYBr"
      },
      "execution_count": null,
      "outputs": []
    }
  ],
  "metadata": {
    "colab": {
      "provenance": []
    },
    "kernelspec": {
      "display_name": "Python 3",
      "name": "python3"
    },
    "language_info": {
      "name": "python"
    }
  },
  "nbformat": 4,
  "nbformat_minor": 0
}